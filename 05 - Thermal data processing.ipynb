{
 "cells": [
  {
   "cell_type": "markdown",
   "metadata": {
    "id": "w5Bz3yki7hx4"
   },
   "source": [
    "# Lab 5: Thermal data processing\n",
    "\n",
    "**Purpose:** The purpose of this lab is to become familiar with thermal data sets and practice processing time series information with Earth Engine.\n"
   ]
  },
  {
   "cell_type": "code",
   "execution_count": null,
   "metadata": {
    "id": "hHRp96LiJX1m"
   },
   "outputs": [],
   "source": [
    "%pylab inline"
   ]
  },
  {
   "cell_type": "code",
   "execution_count": null,
   "metadata": {
    "id": "1TkiHmgi8CRq"
   },
   "outputs": [],
   "source": [
    "# import ee api and geemap package\n",
    "import ee\n",
    "import math\n",
    "import geemap\n",
    "import pandas as pd\n",
    "from geemap import colormaps as cmaps"
   ]
  },
  {
   "cell_type": "code",
   "execution_count": null,
   "metadata": {
    "id": "nNpAABRs8FEZ"
   },
   "outputs": [],
   "source": [
    "# try to initalize an ee session\n",
    "# if not authenticated then run auth workflow and initialize\n",
    "try:\n",
    "    ee.Initialize()\n",
    "except:\n",
    "    ee.Authenticate()\n",
    "    ee.Initialize()"
   ]
  },
  {
   "cell_type": "markdown",
   "metadata": {
    "id": "f95ocyLmCnzs"
   },
   "source": [
    "## Land Surface Temperature from MODIS\n",
    "\n",
    "Land surface temperature can either be extracted from derived products, such as the MODIS Terra and Aqua satellite products (Wan 2006), or estimated directly from measurements in the thermal band. We will only explore using the precomputed data using the city of Atlanta, GA, USA, as the region of interest.\n"
   ]
  },
  {
   "cell_type": "code",
   "execution_count": null,
   "metadata": {
    "id": "3a92VKGax_91"
   },
   "outputs": [],
   "source": [
    "# read in a vector file for the cities of GA\n",
    "cities = ee.FeatureCollection(\"users/kelmarkert/public/cities_georgia\")\n",
    "# filter for the boundaries \n",
    "atl = ee.Feature(cities.filter(ee.Filter.eq(\"Name\",\"Atlanta\")).first())"
   ]
  },
  {
   "cell_type": "markdown",
   "metadata": {
    "id": "ht8f2e8JylRc"
   },
   "source": [
    "Note: The city boundary data was downloaded from the [Atlanta Regional Commission Open data hub](https://opendata.atlantaregional.com/datasets/34520575dfc34b8cac783caff702b8cc_58/explore) and uploaded to EE."
   ]
  },
  {
   "cell_type": "code",
   "execution_count": null,
   "metadata": {
    "id": "12RSftTdyH2L"
   },
   "outputs": [],
   "source": [
    "# Visualize the results\n",
    "Map = geemap.Map()\n",
    "\n",
    "Map.centerObject(atl, 11)\n",
    "\n",
    "Map.addLayer(cities, {\"color\":\"yellow\"}, \"GA Cities\")\n",
    "Map.addLayer(atl, {}, 'Atlanta');\n",
    "\n",
    "Map.addLayerControl()\n",
    "\n",
    "Map"
   ]
  },
  {
   "cell_type": "markdown",
   "metadata": {
    "id": "zOsM-RwB_so1"
   },
   "source": [
    "Next we load in the MODIS MYD11A2 version 6 product, which provides 8-day composites of LST from the Aqua satellite. This corresponds to an equatorial crossing time of roughly 1:30 p.m. during daytime and 1:30 a.m. at night. In contrast, the MODIS sensor onboard the Terra platform (MOD11A2 version 6) has an overpass of ~10:30 a.m. and ~10:30 p.m. "
   ]
  },
  {
   "cell_type": "code",
   "execution_count": null,
   "metadata": {
    "id": "Y_IJccGP_uEI"
   },
   "outputs": [],
   "source": [
    "# Load MODIS image collection from the Earth Engine data catalog.\n",
    "modis_lst = ee.ImageCollection(\"MODIS/006/MYD11A2\")"
   ]
  },
  {
   "cell_type": "markdown",
   "metadata": {
    "id": "JAlnpGtAA1vy"
   },
   "source": [
    "To make the data usable we need to convert the LST to degrees Celsius and mask out all poor quality pixels (which include cloud and water observations). We will do so by first creating a function to extract out QA mask then scale to degrees Celsius and then map the function over the image colletion."
   ]
  },
  {
   "cell_type": "code",
   "execution_count": null,
   "metadata": {
    "id": "lseeAB9yBZQ0"
   },
   "outputs": [],
   "source": [
    "def extract_bits(image, start, end=None, new_name=None):\n",
    "    \"\"\"Function to convert qa bits to binary flag image\n",
    "\n",
    "    args:\n",
    "        image (ee.Image): qa image to extract bit from\n",
    "        start (int): starting bit for flag\n",
    "        end (int | None, optional): ending bit for flag, if None then will only use start bit. default = None\n",
    "        new_name (str | None, optional): output name of resulting image, if None name will be {start}Bits. default = None\n",
    "\n",
    "    returns:\n",
    "        ee.Image: image with extract bits\n",
    "    \"\"\"\n",
    "\n",
    "    newname = new_name if new_name is not None else f\"{start}_bits\"\n",
    "\n",
    "    if (start == end) or (end is None):\n",
    "        # perform a bit shift with bitwiseAnd\n",
    "        return image.select([0], [newname]).bitwiseAnd(1 << start)\n",
    "    else:\n",
    "        # Compute the bits we need to extract.\n",
    "        pattern = 0\n",
    "        for i in range(start, end):\n",
    "            pattern += int(math.pow(2, i))\n",
    "\n",
    "        # Return a single band image of the extracted QA bits, giving the band\n",
    "        # a new name.\n",
    "        return image.select([0], [newname]).bitwiseAnd(pattern).rightShift(start)\n",
    "\n",
    "def preprocess(image):\n",
    "    qa_band = image.select(\"QC_Day\")\n",
    "\n",
    "    mask = extract_bits(qa_band, start=2, end=3).eq(0)\n",
    "\n",
    "    return image.multiply(0.02).subtract(273.15).updateMask(mask).copyProperties(image,[\"system:time_start\"])\n"
   ]
  },
  {
   "cell_type": "markdown",
   "metadata": {
    "id": "6sVtx8cArf0Z"
   },
   "source": [
    "This function is more complex as the bits required for"
   ]
  },
  {
   "cell_type": "code",
   "execution_count": null,
   "metadata": {
    "id": "N4AYf0LBDE-E"
   },
   "outputs": [],
   "source": [
    "# apply the preprocessing function and select the day band\n",
    "lst_c = modis_lst.map(preprocess).select(\"LST_Day_1km\")"
   ]
  },
  {
   "cell_type": "code",
   "execution_count": null,
   "metadata": {
    "id": "KYdyDABdDP54"
   },
   "outputs": [],
   "source": [
    "# Visualize the results\n",
    "Map = geemap.Map()\n",
    "\n",
    "Map.centerObject(atl, 11)\n",
    "\n",
    "Map.addLayer(lst_c.mean(), {\"min\":15,\"max\":35,\"palette\":cmaps.get_palette(\"inferno\")}, \"LST\")\n",
    "Map.addLayer(atl, {}, 'Atlanta');\n",
    "\n",
    "Map.addLayerControl()\n",
    "\n",
    "Map"
   ]
  },
  {
   "cell_type": "code",
   "execution_count": null,
   "metadata": {
    "id": "k6LFQvloskoB"
   },
   "outputs": [],
   "source": [
    "task = ee.batch.Export.table.toAsset(\n",
    "    collection = ee.FeatureCollection(ref),\n",
    "    description = \"CE594 Example Export\",\n",
    "    assetId = \"your/asset/name\" #\"users/kmarkert/ce594/example_table_export\"\n",
    ")"
   ]
  },
  {
   "cell_type": "code",
   "execution_count": null,
   "metadata": {
    "id": "n89CAZdytCcS"
   },
   "outputs": [],
   "source": [
    "task.start()"
   ]
  },
  {
   "cell_type": "code",
   "execution_count": null,
   "metadata": {
    "id": "yjeHO2SEtUmx"
   },
   "outputs": [],
   "source": [
    "image_task = ee.batch.Export.image.toAsset(\n",
    "    image = lst_c.mean(),\n",
    "    region = atl.buffer(1000).geometry(),\n",
    "    scale=1000,\n",
    "    assetId = \"your/asset/name\" #\"users/kmarkert/ce594/example_timage_export\"\n",
    ")\n",
    "\n",
    "image_task.start()"
   ]
  },
  {
   "cell_type": "markdown",
   "metadata": {
    "id": "zcswNQOHrph6"
   },
   "source": [
    "### LST Time series\n",
    "\n",
    "We have a handle on the processing for LST and now we would like to calculate the temperature in time for Atlanta. To do so, we will need to map a function over the collection to find the average temerature."
   ]
  },
  {
   "cell_type": "code",
   "execution_count": null,
   "metadata": {
    "id": "PyYJ5P9dIiaY"
   },
   "outputs": [],
   "source": [
    "# define a function to calculate the avg. temperature for ATL\n",
    "def atl_temp(image):\n",
    "    # reduction function\n",
    "    temp = image.reduceRegion(\n",
    "        reducer = ee.Reducer.mean(),\n",
    "        geometry = atl.geometry(),\n",
    "        scale = 1000\n",
    "    )\n",
    "\n",
    "    # set the result as a metadata property in the image\n",
    "    return image.set(temp)\n",
    "\n",
    "# apply the function and filter for images that were not all masked\n",
    "lst_c_atl = lst_c.map(atl_temp).filter(ee.Filter.neq(\"LST_Day_1km\",None))"
   ]
  },
  {
   "cell_type": "markdown",
   "metadata": {
    "id": "xn0d8UTQsZN3"
   },
   "source": [
    "Note: there are other methods to calculate a time series such as `getRegion()`, however, processing things using the `ImageCollection` data structure is best for processing."
   ]
  },
  {
   "cell_type": "code",
   "execution_count": null,
   "metadata": {
    "id": "QDebLNaaI7RX"
   },
   "outputs": [],
   "source": [
    "# extract out the timeseries information from the collection\n",
    "timeseries = lst_c_atl.aggregate_array(\"LST_Day_1km\").getInfo()\n",
    "timestamp = lst_c_atl.aggregate_array(\"system:time_start\").getInfo()"
   ]
  },
  {
   "cell_type": "code",
   "execution_count": null,
   "metadata": {
    "id": "Fnu2FzSiJUVb"
   },
   "outputs": [],
   "source": [
    "# convert the data into a pandas DataFrame\n",
    "dates = pd.to_datetime(np.array(timestamp)*1e6)\n",
    "atl_series = pd.Series(timeseries,index=dates,name=\"ATL LST\")"
   ]
  },
  {
   "cell_type": "code",
   "execution_count": null,
   "metadata": {
    "id": "PKTdGT3KKkZ2"
   },
   "outputs": [],
   "source": [
    "atl_series.plot(figsize=(10,7));"
   ]
  },
  {
   "cell_type": "markdown",
   "metadata": {
    "id": "x1eAeH2BVIul"
   },
   "source": [
    "Next we want to compare the land surface temperature to a reference area. We will use the interactive map get the geometry..."
   ]
  },
  {
   "cell_type": "code",
   "execution_count": null,
   "metadata": {
    "id": "3VpEEH-GUt7m"
   },
   "outputs": [],
   "source": [
    "# get the drawn features\n",
    "ref = ee.FeatureCollection(Map.draw_features)"
   ]
  },
  {
   "cell_type": "code",
   "execution_count": null,
   "metadata": {
    "id": "qIOPkPnGXcgt"
   },
   "outputs": [],
   "source": [
    "ref"
   ]
  },
  {
   "cell_type": "code",
   "execution_count": null,
   "metadata": {
    "id": "45A8Eix9r8Q6"
   },
   "outputs": [],
   "source": [
    "Map.addLayer(ref,{},\"Reference geom\")"
   ]
  },
  {
   "cell_type": "code",
   "execution_count": null,
   "metadata": {
    "id": "l5utx8UUR-bK"
   },
   "outputs": [],
   "source": [
    "# define a function to calculate the avg. temperature for the reference geom\n",
    "def ref_temp(image):\n",
    "    # reduction function\n",
    "    temp = image.reduceRegion(\n",
    "        reducer = ee.Reducer.mean(),\n",
    "        geometry = ref.geometry(),\n",
    "        scale = 1000\n",
    "    )\n",
    "\n",
    "    # set the result as a metadata property in the image\n",
    "    return image.set(temp)\n",
    "\n",
    "# apply the function and filter for images that were not all masked\n",
    "lst_c_ref = lst_c.map(ref_temp).filter(ee.Filter.neq(\"LST_Day_1km\",None))"
   ]
  },
  {
   "cell_type": "code",
   "execution_count": null,
   "metadata": {
    "id": "wY-sAiKpSNwK"
   },
   "outputs": [],
   "source": [
    "# extract out the timeseries information from the collection\n",
    "timeseries = lst_c_ref.aggregate_array(\"LST_Day_1km\").getInfo()\n",
    "timestamp = lst_c_ref.aggregate_array(\"system:time_start\").getInfo()"
   ]
  },
  {
   "cell_type": "code",
   "execution_count": null,
   "metadata": {
    "id": "8Qu1esM-SVF5"
   },
   "outputs": [],
   "source": [
    "# convert the data into a pandas DataFrame\n",
    "dates = pd.to_datetime(np.array(timestamp)*1e6)\n",
    "ref_series = pd.Series(timeseries,index=dates,name=\"Ref LST\")"
   ]
  },
  {
   "cell_type": "code",
   "execution_count": null,
   "metadata": {
    "id": "KIxo80BJSYqF"
   },
   "outputs": [],
   "source": [
    "# combine the ATL and reference series\n",
    "df = pd.concat([atl_series, ref_series], axis=1)"
   ]
  },
  {
   "cell_type": "code",
   "execution_count": null,
   "metadata": {
    "id": "yS-JzGqNSk9Q"
   },
   "outputs": [],
   "source": [
    "df.plot(figsize=(10,7));"
   ]
  },
  {
   "cell_type": "markdown",
   "metadata": {
    "id": "KxF0JECgWY5U"
   },
   "source": [
    "### More filtering\n",
    "\n",
    "We will use this as an opportunity to explore more filtering functions. For example, if we are interested in the average for only a specific period within a year we can do so. \n",
    "\n",
    "Here we will create an average spring and autumn image of LST and compare the two results."
   ]
  },
  {
   "cell_type": "code",
   "execution_count": null,
   "metadata": {
    "id": "GDo2tBtoWHe1"
   },
   "outputs": [],
   "source": [
    "# define a filter to only spring months\n",
    "spring_filter = ee.Filter.calendarRange(3,5,\"month\")\n",
    "\n",
    "# apply spring filter on lst dataset\n",
    "spring_lst = lst_c.filter(spring_filter)"
   ]
  },
  {
   "cell_type": "code",
   "execution_count": null,
   "metadata": {
    "id": "YujFSjAnWr18"
   },
   "outputs": [],
   "source": [
    "autumn_filter = ee.Filter.calendarRange(9,11,\"month\")\n",
    "\n",
    "# apply autumn filter on lst dataset\n",
    "autumn_lst = lst_c.filter(autumn_filter)"
   ]
  },
  {
   "cell_type": "code",
   "execution_count": null,
   "metadata": {
    "id": "ABoX-GOGW2QA"
   },
   "outputs": [],
   "source": [
    "# Visualize the results\n",
    "Map = geemap.Map()\n",
    "\n",
    "Map.centerObject(atl, 11)\n",
    "\n",
    "Map.addLayer(spring_lst.mean(), {\"min\":15,\"max\":35,\"palette\":cmaps.get_palette(\"inferno\")}, \"Spring LST\")\n",
    "Map.addLayer(autumn_lst.mean(), {\"min\":15,\"max\":35,\"palette\":cmaps.get_palette(\"inferno\")}, \"Autumn LST\")\n",
    "\n",
    "Map.addLayer(atl, {}, 'Atlanta');\n",
    "\n",
    "Map.addLayerControl()\n",
    "\n",
    "Map"
   ]
  },
  {
   "cell_type": "markdown",
   "metadata": {
    "id": "TNnQwhEHu8oM"
   },
   "source": [
    "Another common use case would be to calculate monthly average values. This requires creating a list of months to calculate, mapping over each one, and filter/reduce for that month"
   ]
  },
  {
   "cell_type": "code",
   "execution_count": null,
   "metadata": {
    "id": "vV7ft7E5jL53"
   },
   "outputs": [],
   "source": [
    "# define a function to filter by month and average\n",
    "def monthly_mean(i):\n",
    "    # cast the value as a number\n",
    "    i = ee.Number(i)\n",
    "    # filter by the month and \n",
    "    return lst_c.filter(ee.Filter.calendarRange(i, field=\"month\")).mean()\n",
    "\n",
    "# list of values to map over\n",
    "months = ee.List.sequence(1,12)\n",
    "\n",
    "# apply function and cast to an image collection\n",
    "monthly_lst = ee.ImageCollection.fromImages(months.map(monthly_mean))"
   ]
  },
  {
   "cell_type": "code",
   "execution_count": null,
   "metadata": {
    "id": "gGfSexUFjvyq"
   },
   "outputs": [],
   "source": [
    "# create a gif of the monthly LST\n",
    "url = monthly_lst.getVideoThumbURL({\n",
    "    \"min\":5,\n",
    "    \"max\":40,\n",
    "    \"palette\":cmaps.get_palette(\"inferno\"),\n",
    "    \"region\":atl.geometry().buffer(8e5).bounds(),\n",
    "    \"framesPerSecond\":3,\n",
    "    \"format\":\"gif\",\n",
    "    \"dimensions\":1000\n",
    "})\n",
    "\n",
    "url"
   ]
  }
 ],
 "metadata": {
  "colab": {
   "authorship_tag": "ABX9TyOwATHGM+lmEzjVg7VQA2CE",
   "collapsed_sections": [],
   "name": "Lab 5 - Thermal data processing.ipynb",
   "private_outputs": true,
   "provenance": []
  },
  "environment": {
   "kernel": "python3",
   "name": "common-cpu.m93",
   "type": "gcloud",
   "uri": "gcr.io/deeplearning-platform-release/base-cpu:m93"
  },
  "kernelspec": {
   "display_name": "Python 3",
   "language": "python",
   "name": "python3"
  },
  "language_info": {
   "codemirror_mode": {
    "name": "ipython",
    "version": 3
   },
   "file_extension": ".py",
   "mimetype": "text/x-python",
   "name": "python",
   "nbconvert_exporter": "python",
   "pygments_lexer": "ipython3",
   "version": "3.7.12"
  }
 },
 "nbformat": 4,
 "nbformat_minor": 4
}
