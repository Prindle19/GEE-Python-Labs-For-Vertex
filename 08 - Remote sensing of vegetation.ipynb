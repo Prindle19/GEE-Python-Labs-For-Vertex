{
 "cells": [
  {
   "cell_type": "markdown",
   "metadata": {
    "id": "ze-8wm7LPZRR"
   },
   "source": [
    "# Lab 8: Remote sensing of Vegetation\n",
    "\n",
    "**Purpose:** The purpose of this lab is to explore different approaches to monitoring vegetation and extracting vegetation information using Earth Engine. Students will explore calculating Green Vegeation Fraction from datasets and well as extracting time series vegetation information from a collection of datasets."
   ]
  },
  {
   "cell_type": "code",
   "execution_count": null,
   "metadata": {
    "id": "29C3jR0GQka2"
   },
   "outputs": [],
   "source": [
    "# import ee api and geemap package\n",
    "import ee\n",
    "import math\n",
    "import geemap\n",
    "import pandas as pd\n",
    "from geemap import colormaps as cmaps"
   ]
  },
  {
   "cell_type": "code",
   "execution_count": null,
   "metadata": {
    "id": "1rwfbWHaQpvM"
   },
   "outputs": [],
   "source": [
    "# try to initalize an ee session\n",
    "# if not authenticated then run auth workflow and initialize\n",
    "try:\n",
    "    ee.Initialize()\n",
    "except:\n",
    "    ee.Authenticate()\n",
    "    ee.Initialize()"
   ]
  },
  {
   "cell_type": "markdown",
   "metadata": {
    "id": "nREV9xphS_oo"
   },
   "source": [
    "## Calculating GVF\n",
    "\n",
    "Green Vegetation Fraction (or GVF) is a very commonly used variable for hydrologic and weather modeling activities. GVF is a proxy for vegetation cover and relatively easy to calculate from remote sensing data.\n",
    "\n",
    "We are going to start big with calculating GVF over the US (you can do global scale but that would take running exports...). There are a couple of different methods for calculating GVF. The traditional approaches used land cover to scale each pixel, however [Jiang et al. (2010)](https://agupubs.onlinelibrary.wiley.com/doi/10.1029/2009JD013204) looked at calculating GVF at more regular intervals and used global min/max from. We will use that approach for our example:"
   ]
  },
  {
   "cell_type": "code",
   "execution_count": null,
   "metadata": {
    "id": "-_HgkHEOXlls"
   },
   "outputs": [],
   "source": [
    "# define a year to process\n",
    "start_time = \"2015-01-01\"\n",
    "end_time = \"2016-01-01\""
   ]
  },
  {
   "cell_type": "code",
   "execution_count": null,
   "metadata": {
    "id": "cGjYkJViS_Cn"
   },
   "outputs": [],
   "source": [
    "# get landcover data to calculate min/max ndvi from\n",
    "modis_lc = (\n",
    "    ee.ImageCollection(\"MODIS/006/MCD12Q1\")\n",
    "    .filterDate(start_time, end_time)\n",
    "    .select([\"LC_Type1\"], [\"IGBP\"])\n",
    "    .first()\n",
    ")"
   ]
  },
  {
   "cell_type": "code",
   "execution_count": null,
   "metadata": {
    "id": "f2VKv1TcgmeA"
   },
   "outputs": [],
   "source": [
    "# define function for QA bit extraction\n",
    "def extract_bits(image, start, end=None, new_name=None):\n",
    "    \"\"\"Function to convert qa bits to binary flag image\n",
    "\n",
    "    args:\n",
    "        image (ee.Image): qa image to extract bit from\n",
    "        start (int): starting bit for flag\n",
    "        end (int | None, optional): ending bit for flag, if None then will only use start bit. default = None\n",
    "        new_name (str | None, optional): output name of resulting image, if None name will be {start}Bits. default = None\n",
    "\n",
    "    returns:\n",
    "        ee.Image: image with extract bits\n",
    "    \"\"\"\n",
    "\n",
    "    newname = new_name if new_name is not None else f\"{start}_bits\"\n",
    "\n",
    "    if (start == end) or (end is None):\n",
    "        # perform a bit shift with bitwiseAnd\n",
    "        return image.select([0], [newname]).bitwiseAnd(1 << start)\n",
    "    else:\n",
    "        # Compute the bits we need to extract.\n",
    "        pattern = 0\n",
    "        for i in range(start, end):\n",
    "            pattern += int(math.pow(2, i))\n",
    "\n",
    "        # Return a single band image of the extracted QA bits, giving the band\n",
    "        # a new name.\n",
    "        return image.select([0], [newname]).bitwiseAnd(pattern).rightShift(start)\n"
   ]
  },
  {
   "cell_type": "code",
   "execution_count": null,
   "metadata": {
    "id": "jYG1wcPig7U4"
   },
   "outputs": [],
   "source": [
    "# define a funtion to preprocess VIIRS imagery\n",
    "def preprocess(img):\n",
    "    \"\"\"Custom QA masking and NDVI calculation method for VIIRS VNP09GA dataset\"\"\"\n",
    "    cloudMask = extract_bits(\n",
    "        img.select(\"QF1\"), 2, end=3, new_name=\"cloud_qa\"\n",
    "    ).lt(1)\n",
    "    shadowMask = extract_bits(\n",
    "        img.select(\"QF2\"), 3, new_name=\"shadow_qa\"\n",
    "    ).Not()\n",
    "    snowMask = extract_bits(img.select(\"QF2\"), 5, new_name=\"snow_qa\").Not()\n",
    "\n",
    "    sensorZenith = img.select(\"SensorZenith\").abs().lt(6000)\n",
    "\n",
    "    mask = cloudMask.And(shadowMask).And(snowMask).And(sensorZenith)\n",
    "\n",
    "    ndvi = img.normalizedDifference([\"I2\", \"I1\"]).rename(\"ndvi\")\n",
    "\n",
    "    return ndvi.updateMask(mask).copyProperties(img,[\"system:time_start\"])\n"
   ]
  },
  {
   "cell_type": "code",
   "execution_count": null,
   "metadata": {
    "id": "EpFWoFTsYFp-"
   },
   "outputs": [],
   "source": [
    "# load VIIRS imagery and filter by date\n",
    "viirs_sr = (\n",
    "    ee.ImageCollection(\"NOAA/VIIRS/001/VNP09GA\")\n",
    "    .filterDate(start_time, end_time)\n",
    ")"
   ]
  },
  {
   "cell_type": "code",
   "execution_count": null,
   "metadata": {
    "id": "M51V9-M4mBaA"
   },
   "outputs": [],
   "source": [
    "# apply preprocessing\n",
    "viirs_ndvi = viirs_sr.map(preprocess)"
   ]
  },
  {
   "cell_type": "code",
   "execution_count": null,
   "metadata": {
    "id": "KkmS4Fj2oBs5"
   },
   "outputs": [],
   "source": [
    "# visualization for land cover data\n",
    "igbp_vis = {\n",
    "  \"min\": 1.0,\n",
    "  \"max\": 17.0,\n",
    "  \"palette\": [\n",
    "    '05450a', '086a10', '54a708', '78d203', '009900', 'c6b044', 'dcd159',\n",
    "    'dade48', 'fbff13', 'b6ff05', '27ff87', 'c24f44', 'a5a5a5', 'ff6d4c',\n",
    "    '69fff8', 'f9ffa4', '1c0dff'\n",
    "  ],\n",
    "};"
   ]
  },
  {
   "cell_type": "code",
   "execution_count": null,
   "metadata": {
    "id": "hrT6FkhJmOcn"
   },
   "outputs": [],
   "source": [
    "# Visualize the results\n",
    "Map = geemap.Map()\n",
    "\n",
    "Map.addLayer(modis_lc,igbp_vis, \"IGBP Landcover\")\n",
    "Map.addLayer(viirs_ndvi.mean(), {\"min\": 0, \"max\": 1,\"palette\":cmaps.get_palette(\"YlGn\")}, 'NDVI Composite');\n",
    "\n",
    "Map.addLayerControl()\n",
    "\n",
    "Map"
   ]
  },
  {
   "cell_type": "markdown",
   "metadata": {
    "id": "h3zO-Ez0_0-a"
   },
   "source": [
    "Now that all of the preprocessing is done, we can start processing for the GVF. First, we define our region that we want to extract the min/max NDVI values from land cover types that represent what we would expect from bare and dense vegetated areas."
   ]
  },
  {
   "cell_type": "code",
   "execution_count": null,
   "metadata": {
    "id": "nPyrEEGoOtZ6"
   },
   "outputs": [],
   "source": [
    "# this loads in a global vector file of countries\n",
    "# filter by country of interest\n",
    "region = ee.FeatureCollection(\"USDOS/LSIB_SIMPLE/2017\").filter(\n",
    "    ee.Filter.eq(\"country_na\",\"United States\")\n",
    ")"
   ]
  },
  {
   "cell_type": "code",
   "execution_count": null,
   "metadata": {
    "id": "3LtzwedfYC_O"
   },
   "outputs": [],
   "source": [
    "ndvi_min = viirs_ndvi.min().updateMask(modis_lc.eq(16)).reduceRegion(\n",
    "    geometry = region.geometry().bounds(),\n",
    "    reducer = ee.Reducer.mean(),\n",
    "    scale = 1000,\n",
    "    bestEffort=True\n",
    ")"
   ]
  },
  {
   "cell_type": "code",
   "execution_count": null,
   "metadata": {
    "id": "gFK2IBkvOqJc"
   },
   "outputs": [],
   "source": [
    "ndvi_min.getInfo()"
   ]
  },
  {
   "cell_type": "code",
   "execution_count": null,
   "metadata": {
    "id": "mlDPIbg9O9sr"
   },
   "outputs": [],
   "source": [
    "dense_veg = modis_lc.gte(1).And(modis_lc.lt(6))\n",
    "\n",
    "ndvi_max = viirs_ndvi.max().updateMask(dense_veg).reduceRegion(\n",
    "    geometry = region.geometry().bounds(),\n",
    "    reducer = ee.Reducer.mean(),\n",
    "    scale = 1000,\n",
    "    bestEffort=True,\n",
    ")"
   ]
  },
  {
   "cell_type": "code",
   "execution_count": null,
   "metadata": {
    "id": "KaCSU4taOry7"
   },
   "outputs": [],
   "source": [
    "ndvi_max.getInfo()"
   ]
  },
  {
   "cell_type": "code",
   "execution_count": null,
   "metadata": {
    "id": "vK_Dx8dKRNbL"
   },
   "outputs": [],
   "source": [
    "def calc_gvf(img):\n",
    "    min_val = ee.Number(ndvi_min.get(\"ndvi\"))\n",
    "    max_val = ee.Number(ndvi_max.get(\"ndvi\"))\n",
    "\n",
    "    gvf = img.expression(\"(ndvi - min) / (max - min)\",{\n",
    "        \"ndvi\": img.select(\"ndvi\"),\n",
    "        \"min\": min_val,\n",
    "        \"max\": max_val\n",
    "    }).clamp(0,1)\n",
    "\n",
    "    return gvf.clip(region.geometry().bounds()).rename(\"gvf\").copyProperties(img, [\"system:time_start\"])\n",
    "\n",
    "\n",
    "viirs_gvf = viirs_ndvi.map(calc_gvf)"
   ]
  },
  {
   "cell_type": "code",
   "execution_count": null,
   "metadata": {
    "id": "HD_Qva7aZL4u",
    "tags": []
   },
   "outputs": [],
   "source": [
    "# Visualize the results\n",
    "Map = geemap.Map()\n",
    "\n",
    "Map.addLayer(modis_lc,igbp_vis, \"IGBP Landcover\")\n",
    "Map.addLayer(viirs_ndvi.mean(), {\"min\": 0, \"max\": 1,\"palette\":cmaps.get_palette(\"YlGn\")}, 'NDVI Composite');\n",
    "Map.addLayer(viirs_gvf.mean(), {\"min\": 0, \"max\": 1,\"palette\":cmaps.get_palette(\"YlGn\")}, 'GVF Composite');\n",
    "\n",
    "\n",
    "Map.addLayerControl()\n",
    "\n",
    "Map"
   ]
  },
  {
   "cell_type": "markdown",
   "metadata": {
    "id": "gxrN_rb8U6xY"
   },
   "source": [
    "## Harmonic Regression\n",
    "\n",
    "Lots of interesting analyses can be done to time series by harnessing the `linearRegression()` reducer.  For example, we can estimate linear trend over time. In this example, we are going to seasonality with a harmonic model. \n",
    "\n"
   ]
  },
  {
   "cell_type": "code",
   "execution_count": null,
   "metadata": {
    "id": "j37IPjiUjA4i"
   },
   "outputs": [],
   "source": [
    "# QA mask function\n",
    "def l8_preprocess(image):\n",
    "    #Bits 3, 4, and 5 are cloud shadow, snow, and cloud, respectively.\n",
    "    cloudShadowBitMask = (1 << 3);\n",
    "    cloudsBitMask = (1 << 5);\n",
    "    snowBitMask = (1 << 4);\n",
    "\n",
    "    #Get the pixel QA band.\n",
    "    qa = image.select('pixel_qa');\n",
    "\n",
    "    # apply the bit shift and get binary image of different QA flags\n",
    "    cloud_shadow_qa = qa.bitwiseAnd(cloudShadowBitMask).eq(0)\n",
    "    snow_qa = qa.bitwiseAnd(snowBitMask).eq(0)\n",
    "    cloud_qa = qa.bitwiseAnd(cloudsBitMask).eq(0)\n",
    "\n",
    "    # combine qa mask layers to one final mask\n",
    "    mask = cloud_shadow_qa.And(snow_qa).And(cloud_qa)\n",
    "\n",
    "    ndvi = image.normalizedDifference([\"B5\",\"B4\"]).rename(\"ndvi\")\n",
    "\n",
    "    # apply mask and return orignal image\n",
    "    return image.addBands(ndvi).updateMask(mask);\n",
    "\n",
    "l8_collection = (\n",
    "    ee.ImageCollection('LANDSAT/LC08/C01/T1_SR')\n",
    ")\n",
    "\n",
    "l8_ndvi = l8_collection.map(l8_preprocess)"
   ]
  },
  {
   "cell_type": "markdown",
   "metadata": {
    "id": "4Vah1wQK5Vwy"
   },
   "source": [
    "To fit this model to the time series, set one cycle per unit time and use ordinary least squares regression to get the weights for each variable:\n"
   ]
  },
  {
   "cell_type": "code",
   "execution_count": null,
   "metadata": {
    "id": "B9DGjErBVlJp"
   },
   "outputs": [],
   "source": [
    "def add_variables(img):\n",
    "    # Compute time in fractional years since the epoch.\n",
    "    date = ee.Date(img.get(\"system:time_start\"));\n",
    "    time = ee.Image(\n",
    "        date.difference(ee.Date('1970-01-01'), 'year')\n",
    "    ).float().rename('t')\n",
    "\n",
    "    # calculate cycle from time\n",
    "    time_radians = time.multiply(2 * math.pi)\n",
    "\n",
    "    # calculate the sine/cosine from time\n",
    "    time_cos = time_radians.cos().rename('cos')\n",
    "    time_sin = time_radians.sin().rename('sin')\n",
    "\n",
    "    # Return the image with the added bands.\n",
    "    return ee.Image.cat([\n",
    "        img,\n",
    "        time,\n",
    "        time_cos,\n",
    "        time_sin,\n",
    "        ee.Image.constant(1)\n",
    "    ]).copyProperties(img,[\"system:time_start\"])\n"
   ]
  },
  {
   "cell_type": "code",
   "execution_count": null,
   "metadata": {
    "id": "9jhyQ8qcgRQS"
   },
   "outputs": [],
   "source": [
    "# add the variables for fitting harmonic model\n",
    "harmonic_l8 = l8_ndvi.map(add_variables)"
   ]
  },
  {
   "cell_type": "code",
   "execution_count": null,
   "metadata": {
    "id": "ytUUB1hQVnLu"
   },
   "outputs": [],
   "source": [
    "# name of the band variable we want to fit\n",
    "dependent = ee.String(\"ndvi\")\n",
    "\n",
    "# name of band variables to predict\n",
    "independents = ee.List(['constant', 't', 'cos', 'sin']);"
   ]
  },
  {
   "cell_type": "markdown",
   "metadata": {
    "id": "k0eeaH6-gJqI"
   },
   "source": [
    "Fit the model as with the linear trend, using the `linearRegression()` reducer:"
   ]
  },
  {
   "cell_type": "code",
   "execution_count": null,
   "metadata": {
    "id": "8O5Jky4NcC_D"
   },
   "outputs": [],
   "source": [
    "harmonic_trend = (\n",
    "    harmonic_l8\n",
    "    .select(independents.add(dependent))\n",
    "    # The output of this reducer is a 4x1 array image.\n",
    "    .reduce(ee.Reducer.linearRegression(\n",
    "        numX = independents.length(), \n",
    "        numY = 1\n",
    "    ))\n",
    ")\n"
   ]
  },
  {
   "cell_type": "code",
   "execution_count": null,
   "metadata": {
    "id": "kWnW-ygkgrrX"
   },
   "outputs": [],
   "source": [
    "# Turn the array image into a multi-band image of coefficients.\n",
    "harmonic_trend_coefficients = (\n",
    "    harmonic_trend.select('coefficients')\n",
    "    .arrayProject([0])\n",
    "    .arrayFlatten([independents])\n",
    ")\n"
   ]
  },
  {
   "cell_type": "code",
   "execution_count": null,
   "metadata": {
    "id": "0h2YWFhjg8gz"
   },
   "outputs": [],
   "source": [
    "# define function to apply regression\n",
    "def apply_harmonic_regression(img):\n",
    "    y_hat = (\n",
    "        img.select(independents)\n",
    "        .multiply(harmonic_trend_coefficients)\n",
    "        .reduce('sum')\n",
    "        .rename('fitted')\n",
    "    )\n",
    "    return img.addBands(y_hat)\n",
    "\n",
    "\n",
    "# Compute fitted values.\n",
    "fitted_harmonic = harmonic_l8.map(apply_harmonic_regression)"
   ]
  },
  {
   "cell_type": "markdown",
   "metadata": {
    "id": "hmV6IpmykzG3"
   },
   "source": [
    "Get a time series of observed and fitted NDVI values to see the results:"
   ]
  },
  {
   "cell_type": "code",
   "execution_count": null,
   "metadata": {
    "id": "gtL8o7Bzhdwu"
   },
   "outputs": [],
   "source": [
    "pt = ee.Geometry.Point((360+-254.3301), 10.5816)"
   ]
  },
  {
   "cell_type": "code",
   "execution_count": null,
   "metadata": {
    "id": "3_2KJE1elrU-"
   },
   "outputs": [],
   "source": [
    "def get_timeseries(collection,pt,scale):\n",
    "    result = collection.getRegion(pt,scale).getInfo()\n",
    "    df = pd.DataFrame(result[1:])\n",
    "    df.columns = result[0]\n",
    "    df[\"date\"]= pd.to_datetime([t['value']*1e6 if type(t)==dict else t*1e6 for t in df[\"time\"]] )\n",
    "    df.index = df.date\n",
    "    return df"
   ]
  },
  {
   "cell_type": "code",
   "execution_count": null,
   "metadata": {
    "id": "GreROUIrmgjG"
   },
   "outputs": [],
   "source": [
    "timeseries_df = get_timeseries(fitted_harmonic, pt, 30)"
   ]
  },
  {
   "cell_type": "code",
   "execution_count": null,
   "metadata": {
    "id": "E94w-S_22vX9"
   },
   "outputs": [],
   "source": [
    "timeseries_df[[\"ndvi\",\"fitted\"]].plot(marker=\"o\",figsize=(10,5))"
   ]
  },
  {
   "cell_type": "markdown",
   "metadata": {
    "id": "eTQfCV2Ahkcx"
   },
   "source": [
    "Although any coefficients can be visualized on a map directly, it is useful and interesting to map the phase and amplitude of the estimated harmonic model.  First, compute phase and amplitude from the coefficients:\n"
   ]
  },
  {
   "cell_type": "code",
   "execution_count": null,
   "metadata": {
    "id": "r0Z7LjKxhk_B"
   },
   "outputs": [],
   "source": [
    "# Compute phase and amplitude.\n",
    "phase = (\n",
    "    harmonic_trend_coefficients.select('sin')\n",
    "    .atan2(harmonic_trend_coefficients.select('cos'))\n",
    "    # Scale to [0, 1] from radians.\n",
    "    .unitScale(-math.pi, math.pi)\n",
    ")\n",
    "\n",
    "amplitude = (\n",
    "    harmonic_trend_coefficients.select('sin')\n",
    "    .hypot(harmonic_trend_coefficients.select('cos'))\n",
    "    # Add a scale factor for visualization.\n",
    "    .multiply(3)\n",
    ")"
   ]
  },
  {
   "cell_type": "code",
   "execution_count": null,
   "metadata": {
    "id": "zgt_ZbQIh6eu"
   },
   "outputs": [],
   "source": [
    "# Compute the mean NDVI.\n",
    "mean_ndvi = l8_ndvi.select('ndvi').mean();"
   ]
  },
  {
   "cell_type": "markdown",
   "metadata": {
    "id": "uo1DXQFW5AOK"
   },
   "source": [
    "Combine the bands into one image and convert to RGB image:"
   ]
  },
  {
   "cell_type": "code",
   "execution_count": null,
   "metadata": {
    "id": "I9sJuyAghuR-"
   },
   "outputs": [],
   "source": [
    "# Use the HSV to RGB transform to display phase and amplitude.\n",
    "rgb = ee.Image.cat([\n",
    "  phase,      # hue\n",
    "  amplitude,  # saturation (difference from white)\n",
    "  mean_ndvi    # value (difference from black)\n",
    "]).hsvToRgb()\n"
   ]
  },
  {
   "cell_type": "code",
   "execution_count": null,
   "metadata": {
    "id": "l2lMWI9QiGBS"
   },
   "outputs": [],
   "source": [
    "# Visualize the results\n",
    "Map = geemap.Map()\n",
    "\n",
    "Map.setCenter(-121.272, 37.95, 11) # Stockton, CA\n",
    "\n",
    "Map.addLayer(rgb, {}, 'phase (hue), amplitude (sat), ndvi (val');\n",
    "\n",
    "Map.addLayerControl()\n",
    "\n",
    "Map"
   ]
  },
  {
   "cell_type": "markdown",
   "metadata": {
    "id": "oMIT8cGTke1n"
   },
   "source": [
    "## Computing peak NDVI\n",
    "\n",
    "Another very helpful variable to calculate is the time of peak for NDVI. This can be used for crop monitoring and understanding dynamics of different vegetation and land cover types."
   ]
  },
  {
   "cell_type": "code",
   "execution_count": null,
   "metadata": {
    "id": "vb84weT9iRPR"
   },
   "outputs": [],
   "source": [
    "# define a year of interes\n",
    "yr = 2019\n",
    "\n",
    "fitted_harmonic_yr = fitted_harmonic.filterDate(f\"{yr}-01-01\",f\"{yr+1}-01-01\")\n",
    "\n",
    "peak_obs = fitted_harmonic_yr.select([\"ndvi\",\"t\"]).qualityMosaic(\"ndvi\").subtract(yr-1970).multiply(365)\n",
    "\n",
    "peak_fit = fitted_harmonic_yr.select([\"fitted\",\"t\"]).qualityMosaic(\"fitted\").subtract(yr-1970).multiply(365)"
   ]
  },
  {
   "cell_type": "code",
   "execution_count": null,
   "metadata": {
    "id": "OFPZ8UBF64g4"
   },
   "outputs": [],
   "source": [
    "# Visualize the results\n",
    "Map = geemap.Map()\n",
    "\n",
    "Map.setCenter(-121.272, 37.95, 11) # Stockton, CA\n",
    "\n",
    "Map.addLayer(peak_obs, {\"bands\":\"t\",\"min\":0,\"max\":365, \"palette\":cmaps.get_palette(\"twilight\")}, 'Observed peak time (DOY)');\n",
    "Map.addLayer(peak_fit, {\"bands\":\"t\",\"min\":0,\"max\":365, \"palette\":cmaps.get_palette(\"twilight\")}, 'Fitted peak time (DOY)');\n",
    "\n",
    "Map.addLayerControl()\n",
    "\n",
    "Map"
   ]
  }
 ],
 "metadata": {
  "colab": {
   "authorship_tag": "ABX9TyOxzMZeHUh3TaIUvVdw0HgN",
   "collapsed_sections": [],
   "name": "Lab 8 - Remote sensing of vegetation.ipynb",
   "private_outputs": true,
   "provenance": []
  },
  "environment": {
   "kernel": "python3",
   "name": "common-cpu.m93",
   "type": "gcloud",
   "uri": "gcr.io/deeplearning-platform-release/base-cpu:m93"
  },
  "kernelspec": {
   "display_name": "Python 3",
   "language": "python",
   "name": "python3"
  },
  "language_info": {
   "codemirror_mode": {
    "name": "ipython",
    "version": 3
   },
   "file_extension": ".py",
   "mimetype": "text/x-python",
   "name": "python",
   "nbconvert_exporter": "python",
   "pygments_lexer": "ipython3",
   "version": "3.7.12"
  }
 },
 "nbformat": 4,
 "nbformat_minor": 4
}
