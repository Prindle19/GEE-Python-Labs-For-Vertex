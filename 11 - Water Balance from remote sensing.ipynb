{
 "cells": [
  {
   "cell_type": "markdown",
   "metadata": {
    "id": "ighbboD6dbzZ"
   },
   "source": [
    "# Lab 11: Water balance from remote sensing\n",
    "\n",
    "**Purpose:** In this chapter, you will learn simple water balance calculations using remote- sensing- derived products related to precipitation and evapotranspiration. You will learn to work at the river basin scale and perform time-series analysis using the Earth Engine platform. "
   ]
  },
  {
   "cell_type": "code",
   "execution_count": null,
   "metadata": {
    "id": "yMXXkqlndsIg"
   },
   "outputs": [],
   "source": [
    "%pylab inline"
   ]
  },
  {
   "cell_type": "code",
   "execution_count": null,
   "metadata": {
    "id": "U92tLCA_dsFL"
   },
   "outputs": [],
   "source": [
    "# import ee api and geemap package\n",
    "import ee\n",
    "import math\n",
    "import geemap\n",
    "import pandas as pd\n",
    "from geemap import colormaps as cmaps"
   ]
  },
  {
   "cell_type": "code",
   "execution_count": null,
   "metadata": {
    "id": "tLrc4hxMdsAb"
   },
   "outputs": [],
   "source": [
    "# try to initalize an ee session\n",
    "# if not authenticated then run auth workflow and initialize\n",
    "try:\n",
    "    ee.Initialize()\n",
    "except:\n",
    "    ee.Authenticate()\n",
    "    ee.Initialize()"
   ]
  },
  {
   "cell_type": "markdown",
   "metadata": {
    "id": "ZWpbjy6V6REY"
   },
   "source": [
    "## Domain setup\n",
    "\n",
    "A hydrological system, also referred to as river basin or drainage basin, is  any land  area where precipitation collects and drains off into a common outlet. In a basin the hydrological processes between upstream and downstream are interconnected. \n",
    "\n",
    "In this case we will be using the basin area for the Mun River in Thailand. This is a significant tributary system for the Mekong River and supports most of Thailands agricultural production. There are a good number of small reservoirs for irrigation systems and some seasonal flooding that occurs along the river. \n",
    "\n",
    "For our time domain, we will use 10 years from 2010-2020 to analysis monthly water balance. The satellite data records go back further but for this example we will keep it moderately constrained.\n",
    "\n",
    "We begin by defining our area of interest and time domain for analysis:"
   ]
  },
  {
   "cell_type": "code",
   "execution_count": null,
   "metadata": {
    "id": "fjL8NrlUess9"
   },
   "outputs": [],
   "source": [
    "# import global basin dataset\n",
    "basins = ee.FeatureCollection(\"WWF/HydroSHEDS/v1/Basins/hybas_4\")\n",
    "\n",
    "# filter for the Mun river basin in Thailand\n",
    "basin = basins.filter(ee.Filter.eq(\"HYBAS_ID\",4041108580))"
   ]
  },
  {
   "cell_type": "code",
   "execution_count": null,
   "metadata": {
    "id": "05np5ufXxS16"
   },
   "outputs": [],
   "source": [
    "# Visualize the basin\n",
    "Map = geemap.Map()\n",
    "\n",
    "Map.centerObject(basin,7)\n",
    "\n",
    "Map.addLayer(basin, {}, 'AOI')\n",
    "\n",
    "Map.addLayerControl()\n",
    "\n",
    "Map"
   ]
  },
  {
   "cell_type": "markdown",
   "metadata": {
    "id": "itv0cM4OFsfN"
   },
   "source": [
    "Next, we define the time bounds. Given we will be calculating monthly water balance, we will define the years *and* months so we can"
   ]
  },
  {
   "cell_type": "code",
   "execution_count": null,
   "metadata": {
    "id": "0Xq2e-E6w2k7"
   },
   "outputs": [],
   "source": [
    "# set start and end year\n",
    "start_year = 2010;\n",
    "end_year = 2020;\n",
    " \n",
    "# create two date objects for start and end\n",
    "start_date = ee.Date.fromYMD(start_year, 1, 1);\n",
    "end_date = ee.Date.fromYMD(end_year + 1, 1, 1);\n",
    " \n",
    "# make a list with years\n",
    "years = ee.List.sequence(start_year,end_year);\n",
    "# make a list with months\n",
    "months = ee.List.sequence(1, 12);"
   ]
  },
  {
   "cell_type": "markdown",
   "metadata": {
    "id": "UbYH2CKveqb3"
   },
   "source": [
    "## Calculating monthly precipitation\n",
    "\n",
    "Precipitation has been measured for many centuries ([Strangeways 2010](https://doi.org/10.1002/wea.548)). The traditional method is point measurement, which was standardized in the previous century to make measurements comparable in space and time. Although statistical methods exist to calculate area averaged rainfall from weather stations, the limited number of data points remains a constraint, especially in developing countries and sparsely populated regions where the density of weather stations is low. Satellites can fill this information gap (but also come with their own challenges), as they observe the planet at a regular interval with calibrated sensors. "
   ]
  },
  {
   "cell_type": "markdown",
   "metadata": {
    "id": "4EE_Ippzxr2M"
   },
   "source": [
    "The Climate Hazards Group InfraRed Precipitation with Station (CHIRPS) data is a quasi-global rainfall dataset ([Funk et al. 2015](https://doi.org/10.1038/sdata.2015.66)) covering more than 35 years. We import the CHIRPS ImageCollection and select the imagery for the relevant dates. Note that we used the pentad time series; each image in this collection contains the accumulated rainfall for five days. The daily product is also available in Earth Engine. The pentad dataset is used rather than the daily data product to reduce the number of computations needed to aggregate the data.\n"
   ]
  },
  {
   "cell_type": "code",
   "execution_count": null,
   "metadata": {
    "id": "9wsLrYrIxRko"
   },
   "outputs": [],
   "source": [
    "# import the CHIRPS dataset\n",
    "chirps = (\n",
    "    ee.ImageCollection(\"UCSB-CHG/CHIRPS/PENTAD\")\n",
    "    # filter for relevant time period\n",
    "    .filterDate(start_date,end_date)\n",
    ")"
   ]
  },
  {
   "cell_type": "markdown",
   "metadata": {
    "id": "8SXzdcv4x_fC"
   },
   "source": [
    "The year and month lists are used in the function below to calculate the monthly rainfall. We use a server-side nested loop where we first iterate over the years (2010, 2011, … 2020) and then iterate over the months (1, 2, … 12). This returns an image with the total rainfall for each month. We set the year, month, and timestamp (`system:time_start`) for each image and flatten the image to turn the object into a single `ImageCollection`. "
   ]
  },
  {
   "cell_type": "code",
   "execution_count": null,
   "metadata": {
    "id": "PhtMFD9Rx6BR"
   },
   "outputs": [],
   "source": [
    "# define a nested loop for calculating monthly precip\n",
    "def monthly_accumulation(yr):\n",
    "    def _month_loop(mon):\n",
    "        mondate = ee.Date.fromYMD(yr, mon, 1)\n",
    "        \n",
    "        accum = (\n",
    "            chirps\n",
    "            .filter(ee.Filter.calendarRange(yr, yr, 'year'))\n",
    "            .filter(ee.Filter.calendarRange(mon, mon, 'month'))\n",
    "            .sum()\n",
    "        )\n",
    "        return (accum\n",
    "            .set('year', yr)\n",
    "            .set('month', mon)\n",
    "            .set('system:time_start', mondate.millis())\n",
    "        )\n",
    "\n",
    "    return months.map(_month_loop)\n",
    "\n",
    "# apply the monthly accumulation function\n",
    "# flatten the nested lists\n",
    "# convert to image collection\n",
    "monthly_precip = ee.ImageCollection.fromImages(years.map(monthly_accumulation).flatten())\n"
   ]
  },
  {
   "cell_type": "code",
   "execution_count": null,
   "metadata": {
    "id": "xRlZc4BTz12C"
   },
   "outputs": [],
   "source": [
    "# Visualize the results\n",
    "Map = geemap.Map()\n",
    "\n",
    "Map.centerObject(basin,7)\n",
    "\n",
    "Map.addLayer(basin, {}, 'AOI')\n",
    "# add layer with monthly mean. note that we clip for the basin of interest\n",
    "Map.addLayer(monthly_precip.mean().clip(basin),{\"min\":50,\"max\":200,\"palette\":cmaps.get_palette(\"YlGnBu\")},\"Mean Monthly Precipitation\");\n",
    "\n",
    "Map.addLayerControl()\n",
    "\n",
    "Map\n"
   ]
  },
  {
   "cell_type": "markdown",
   "metadata": {
    "id": "_MrICEmi1VJG"
   },
   "source": [
    "## Calculating ET\n",
    "\n",
    "Different methods exist to map ET from remote sensing data, including simple empirical models that relate spectral reflectance with ET, vegetation index models, energy budget, and deterministic models ([Courault et al. 2005](https://doi.org/10.1007/s10795-005-5186-0)).\n",
    "\n",
    "There are different readily available ET products derived from remotely sensed data. We will use the MODIS ET products (MOD16) as it is readily available as an asset on Earth Engine. The MOD16 algorithm ([Mu et al., 2011](https://doi.org/10.1016/j.rse.2011.02.019)) is based on the logic of the Penman-Monteith equation, which uses daily meteorological reanalysis data and eight-day remotely sensed vegetation property dynamics from MODIS as inputs\n"
   ]
  },
  {
   "cell_type": "code",
   "execution_count": null,
   "metadata": {
    "id": "kQIqCtxa0EvI"
   },
   "outputs": [],
   "source": [
    "# import the mod16 dataset\n",
    "mod16 = (\n",
    "    ee.ImageCollection(\"MODIS/006/MOD16A2\")\n",
    "    .select(\"ET\")\n",
    "    # filter for relevant time period\n",
    "    .filterDate(start_date,end_date)\n",
    ")"
   ]
  },
  {
   "cell_type": "code",
   "execution_count": null,
   "metadata": {
    "id": "2KrSk0XS1f2w"
   },
   "outputs": [],
   "source": [
    "# define a nested loop for calculating monthly ET\n",
    "def monthly_evapotranspiration(yr):\n",
    "    def _month_loop(mon):\n",
    "        mondate = ee.Date.fromYMD(yr, mon, 1)\n",
    "\n",
    "        accum = (\n",
    "            mod16\n",
    "            .filter(ee.Filter.calendarRange(yr, yr, 'year'))\n",
    "            .filter(ee.Filter.calendarRange(mon, mon, 'month'))\n",
    "            .sum()\n",
    "            .multiply(0.1) # apply scale factor to data\n",
    "        )\n",
    "        return (accum\n",
    "            .set('year', yr)\n",
    "            .set('month', mon)\n",
    "            .set('system:time_start', mondate.millis())\n",
    "        )\n",
    "\n",
    "    return months.map(_month_loop)\n",
    "\n",
    "# apply the monthly accumulation function\n",
    "# flatten the nested lists\n",
    "# convert to image collection\n",
    "monthly_evap = ee.ImageCollection.fromImages(years.map(monthly_evapotranspiration).flatten())"
   ]
  },
  {
   "cell_type": "code",
   "execution_count": null,
   "metadata": {
    "id": "M0x31gGW16c_"
   },
   "outputs": [],
   "source": [
    "# Visualize the results\n",
    "Map = geemap.Map()\n",
    "\n",
    "Map.centerObject(basin,7)\n",
    "\n",
    "Map.addLayer(basin, {}, 'AOI')\n",
    "# add layer with monthly mean. note that we clip for the basin of interest\n",
    "Map.addLayer(monthly_precip.mean().clip(basin),{\"min\":50,\"max\":200,\"palette\":cmaps.get_palette(\"YlGnBu\")},\"Mean Monthly Precipitation\");\n",
    "Map.addLayer(monthly_evap.mean().clip(basin),{\"min\":10,\"max\":100,\"palette\":\"red,orange,yellow,lightblue,blue\"},\"Mean Monthly Evapotranspiration\");\n",
    "\n",
    "\n",
    "Map.addLayerControl()\n",
    "\n",
    "Map"
   ]
  },
  {
   "cell_type": "markdown",
   "metadata": {
    "id": "-XAmXcae1q4C"
   },
   "source": [
    "## Calculating runoff\n",
    "\n",
    "Runoff is an important part of water systems as it is the lateral transport of water in time. This parameter is practically impossible to calculate from remote sensing observations and is typically calculated using models. However, with upcoming satelitte missions such as the [Surface Water Ocean Topography (SWOT) mission](https://swot.jpl.nasa.gov/mission/overview/), we will be able to observe discharge within the river channel. However, overland runoff will still evade us...\n",
    "\n",
    "\n",
    "For this exercise, we are going to cheat here and bring in modeled runoff data since we cannot acquire the data from remote sensing data:\n"
   ]
  },
  {
   "cell_type": "code",
   "execution_count": null,
   "metadata": {
    "id": "7NyNdYdc1tv4"
   },
   "outputs": [],
   "source": [
    "# import the ERA5 daily aggregated model data\n",
    "era5_q = (\n",
    "    ee.ImageCollection(\"ECMWF/ERA5_LAND/MONTHLY\")\n",
    "    # select only the runoff band\n",
    "    .select(\"runoff\")\n",
    "    # filter for relevant time period\n",
    "    .filterDate(start_date,end_date)\n",
    ")"
   ]
  },
  {
   "cell_type": "code",
   "execution_count": null,
   "metadata": {
    "id": "tpL5uhQ61744"
   },
   "outputs": [],
   "source": [
    "# define a nested loop for calculating monthly runoff\n",
    "def monthly_runoff(yr):\n",
    "    def _month_loop(mon):\n",
    "        # get date info\n",
    "        mondate = ee.Date.fromYMD(yr, mon, 1)\n",
    "        # calculate number of days in given month\n",
    "        # need so we can convert average runoff to total runoff for month\n",
    "        ndays = mondate.advance(1,\"month\").difference(mondate,\"days\")\n",
    "        # get runoff for month and calculate the total\n",
    "        accum = (\n",
    "            era5_q\n",
    "            .filter(ee.Filter.calendarRange(yr, yr, 'year'))\n",
    "            .filter(ee.Filter.calendarRange(mon, mon, 'month'))\n",
    "            .first()\n",
    "            .multiply(1000) # convert m to mm\n",
    "            .multiply(ndays)\n",
    "        )\n",
    "        return (accum\n",
    "            .set('year', yr)\n",
    "            .set('month', mon)\n",
    "            .set('system:time_start', mondate.millis())\n",
    "        )\n",
    "\n",
    "    return months.map(_month_loop)\n",
    "\n",
    "# apply the monthly accumulation function\n",
    "# flatten the nested lists\n",
    "# convert to image collection\n",
    "monthly_q = ee.ImageCollection.fromImages(years.map(monthly_runoff).flatten())"
   ]
  },
  {
   "cell_type": "code",
   "execution_count": null,
   "metadata": {
    "id": "oXDXeC4Y2EB1"
   },
   "outputs": [],
   "source": [
    "# Visualize the results\n",
    "Map = geemap.Map()\n",
    "\n",
    "Map.centerObject(basin,7)\n",
    "\n",
    "Map.addLayer(basin, {}, 'AOI')\n",
    "# add layer with monthly mean. note that we clip for the basin of interest\n",
    "Map.addLayer(monthly_precip.mean().clip(basin),{\"min\":75,\"max\":200,\"palette\":cmaps.get_palette(\"YlGnBu\")},\"Mean Monthly Precipitation\");\n",
    "Map.addLayer(monthly_evap.mean().clip(basin),{\"min\":10,\"max\":100,\"palette\":\"red,orange,yellow,lightblue,blue\"},\"Mean Monthly Evapotranspiration\");\n",
    "Map.addLayer(monthly_q.mean().clip(basin),{\"min\":0,\"max\":100,\"palette\":cmaps.get_palette(\"Blues\")},\"Mean Monthly Runoff\");\n",
    "\n",
    "\n",
    "Map.addLayerControl()\n",
    "\n",
    "Map"
   ]
  },
  {
   "cell_type": "markdown",
   "metadata": {
    "id": "xDv4ZUrB6e8f"
   },
   "source": [
    "## Montly water balance\n",
    "\n",
    "The water balance is the key concept in understanding the availability of water resources in a hydrological system. The water balance includes both input and extractions of water and can be defined by the following equation:\n",
    "\n",
    "$P − (E + Q) = \\Delta S$\n",
    "\n",
    "Inputs to the hydrological system are defined by precipitation (P; rainfall and snow). Extractions for the system are from runoff (Q) and evapotranspiration (E), with evapotranspiration denoting the sum of evaporation from the land surface plus transpiration from plants. Water balance changes in groundwater and soil storage are indicated by ΔS.\n",
    "\n"
   ]
  },
  {
   "cell_type": "markdown",
   "metadata": {
    "id": "HdHsk3FlIBmJ"
   },
   "source": [
    "We have calculated monthly precipitation, evapotranspiration, and runoff. Now we can calculate the storage each month using the straightforward equation above. Here we apply the equation for each month to calculate storage:"
   ]
  },
  {
   "cell_type": "code",
   "execution_count": null,
   "metadata": {
    "id": "86xl0ne52Mq_"
   },
   "outputs": [],
   "source": [
    "# define a nested loop for calculating monthly runoff\n",
    "def monthly_waterbalance(yr):\n",
    "    def _month_loop(mon):\n",
    "        # get date info\n",
    "        mondate = ee.Date.fromYMD(yr, mon, 1)\n",
    "\n",
    "        # extract out precipitation for month\n",
    "        p = (\n",
    "            monthly_precip\n",
    "            .filter(ee.Filter.calendarRange(yr, yr, 'year'))\n",
    "            .filter(ee.Filter.calendarRange(mon, mon, 'month'))\n",
    "            .first()\n",
    "            .resample() # change resample method to bilinear for smooth results\n",
    "        )\n",
    "\n",
    "    # extract out ET for month\n",
    "        et = (\n",
    "            monthly_evap\n",
    "            .filter(ee.Filter.calendarRange(yr, yr, 'year'))\n",
    "            .filter(ee.Filter.calendarRange(mon, mon, 'month'))\n",
    "            .first()\n",
    "        )\n",
    "\n",
    "        # extract out runoff for month\n",
    "        q = (\n",
    "            monthly_q\n",
    "            .filter(ee.Filter.calendarRange(yr, yr, 'year'))\n",
    "            .filter(ee.Filter.calendarRange(mon, mon, 'month'))\n",
    "            .first() \n",
    "            .resample() # change resample method to bilinear for smooth results\n",
    "        )\n",
    "\n",
    "        # calculate storage\n",
    "        storage = p.subtract(et.add(q)).rename(\"storage\")\n",
    "\n",
    "        return (storage\n",
    "            .set('year', yr)\n",
    "            .set('month', mon)\n",
    "            .set('system:time_start', mondate.millis())\n",
    "        )\n",
    "\n",
    "    return months.map(_month_loop)\n",
    "\n",
    "# apply the monthly accumulation function\n",
    "# flatten the nested lists\n",
    "# convert to image collection\n",
    "monthly_storage = ee.ImageCollection.fromImages(years.map(monthly_waterbalance).flatten())"
   ]
  },
  {
   "cell_type": "code",
   "execution_count": null,
   "metadata": {
    "id": "Z6CkEW2F8WAy"
   },
   "outputs": [],
   "source": [
    "# Visualize the results\n",
    "Map = geemap.Map()\n",
    "\n",
    "Map.centerObject(basin,7)\n",
    "\n",
    "Map.addLayer(basin, {}, 'AOI')\n",
    "# add layer with monthly mean. note that we clip for the basin of interest\n",
    "Map.addLayer(monthly_precip.mean().clip(basin),{\"min\":75,\"max\":200,\"palette\":cmaps.get_palette(\"cubehelix\")},\"Mean Monthly Precipitation\");\n",
    "Map.addLayer(monthly_evap.mean().clip(basin),{\"min\":10,\"max\":100,\"palette\":\"red,orange,yellow,lightblue,blue\"},\"Mean Monthly Evapotranspiration\");\n",
    "Map.addLayer(monthly_q.mean().clip(basin),{\"min\":0,\"max\":100,\"palette\":cmaps.get_palette(\"YlGnBu\")},\"Mean Monthly Runoff\");\n",
    "Map.addLayer(monthly_storage.mean().clip(basin),{\"min\":-75,\"max\":75,\"palette\":cmaps.get_palette(\"RdYlBu\")},\"Mean Monthly Storage\");\n",
    "\n",
    "\n",
    "Map.addLayerControl()\n",
    "\n",
    "Map"
   ]
  },
  {
   "cell_type": "markdown",
   "metadata": {
    "id": "uInkq4oeLKIH"
   },
   "source": [
    "### Water balance timeseries\n",
    "Often times a map of water storage doesn't tell the whole story, there are a lot of changes that occur within a year and between years. Here we will calculate the basin average water balance for each month to see how it changes in time:"
   ]
  },
  {
   "cell_type": "code",
   "execution_count": null,
   "metadata": {
    "id": "DC0PqVDx8gWC"
   },
   "outputs": [],
   "source": [
    "def storage_timeseries(image):\n",
    "    # reduction function\n",
    "    ds = image.reduceRegion(\n",
    "        reducer = ee.Reducer.mean(),\n",
    "        geometry = basin.geometry(),\n",
    "        scale = 500\n",
    "    )\n",
    "\n",
    "    # set the result as a metadata property in the image\n",
    "    return image.set(ds)\n",
    "\n",
    "# apply the function and filter for images that were not all masked\n",
    "monthly_storage_ts = monthly_storage.map(storage_timeseries).filter(ee.Filter.neq(\"storage\",None))\n"
   ]
  },
  {
   "cell_type": "code",
   "execution_count": null,
   "metadata": {
    "id": "n9OpMTFJB4hc"
   },
   "outputs": [],
   "source": [
    "# extract out the timeseries information from the collection\n",
    "timeseries = monthly_storage_ts.aggregate_array(\"storage\").getInfo()\n",
    "timestamp = monthly_storage_ts.aggregate_array(\"system:time_start\").getInfo()"
   ]
  },
  {
   "cell_type": "code",
   "execution_count": null,
   "metadata": {
    "id": "gBdsC2F0B6hR"
   },
   "outputs": [],
   "source": [
    "# convert the data into a pandas DataFrame\n",
    "dates = pd.to_datetime(np.array(timestamp)*1e6)\n",
    "storage_series = pd.Series(timeseries,index=dates,name=\"d Storage\")"
   ]
  },
  {
   "cell_type": "code",
   "execution_count": null,
   "metadata": {
    "id": "zLGoENMfCl2w"
   },
   "outputs": [],
   "source": [
    "ax = storage_series.plot.bar(figsize=(10,7));\n",
    "# ax.plot([storage_series.index.as_dtype(int).min(),0], [0,storage_series.index.as_dtype(int).max()],\"k--\")\n",
    "\n",
    "ax.set_xticklabels([x.strftime(\"%Y-%m\") if x.month == 1 else \"\" for x in storage_series.index ], rotation=45);\n",
    "ax.set_ylabel(\"Average Storage [mm]\");\n"
   ]
  },
  {
   "cell_type": "markdown",
   "metadata": {
    "id": "rSWUePCFH6qd"
   },
   "source": [
    "## Trends in storage\n",
    "\n",
    "As we can see in our plot above, there is a strong seasonality to the water balance. Often times it is benificial to calculate trends in water balance (or other paramters) but this is difficult with a seasonality signal. \n",
    "[seasonal adjustment](https://en.wikipedia.org/wiki/Seasonal_adjustment). A simple way to correct for a seasonal component is to use differencing."
   ]
  },
  {
   "cell_type": "code",
   "execution_count": null,
   "metadata": {
    "id": "v1RM-4ehH54Q"
   },
   "outputs": [],
   "source": [
    "# define a function to calculate the monthly mean from all years\n",
    "def calc_monthly_mean(month):\n",
    "    month_mean = (monthly_storage\n",
    "        .filter(ee.Filter.calendarRange(month, month, 'month'))\n",
    "        .mean()\n",
    "    )\n",
    "    return month_mean.set(\"month\", month)\n",
    "\n",
    "# apply function\n",
    "monthly_mean_storage = ee.ImageCollection.fromImages(months.map(calc_monthly_mean))"
   ]
  },
  {
   "cell_type": "code",
   "execution_count": null,
   "metadata": {
    "id": "R5U-jqAXIQ-1"
   },
   "outputs": [],
   "source": [
    "# preprocessing function to remove seasonality and add time bands\n",
    "def trend_preprocess(image):\n",
    "    month = image.get(\"month\")\n",
    "\n",
    "    # get the monthly mean corresponding to image \n",
    "    month_mean = monthly_mean_storage.filter(ee.Filter.eq(\"month\",month)).first()\n",
    "\n",
    "    # get the time band relative to year\n",
    "    date_val = image.date().difference(ee.Date(\"1970-01-01\"),\"year\")\n",
    "\n",
    "    return (image.subtract(month_mean) # remove seasonal mean\n",
    "        .addBands(ee.Image.constant(date_val).float().rename(\"t\")) # add time band\n",
    "        .copyProperties(image,[\"system:time_start\",\"month\",\"year\"]) # set time property\n",
    "    )\n",
    "\n",
    "# apply function to calculate deviation from seasonal mean\n",
    "monthly_storage_deviation = monthly_storage.map(trend_preprocess)"
   ]
  },
  {
   "cell_type": "markdown",
   "metadata": {
    "id": "mFYMlhZsNhMI"
   },
   "source": [
    "Another way to do extract out the monthly means corresponding to the images is by applying a [join](https://developers.google.com/earth-engine/guides/joins_save_all) to the collection. However, when doing so we would still need to map over the function to remove the seasonal signal as the join in this case will just pick which imagery corresponds"
   ]
  },
  {
   "cell_type": "markdown",
   "metadata": {
    "id": "abkrCygUOTbX"
   },
   "source": [
    "Now that we have our image collection that has the monthly means removed we can get our time series to see how far off each month is from expected. We will use the same function from above that calculates the basin average values:"
   ]
  },
  {
   "cell_type": "code",
   "execution_count": null,
   "metadata": {
    "id": "6-4a174NMDeh"
   },
   "outputs": [],
   "source": [
    "# apply function that applies reducer and sets time series info\n",
    "monthly_storage_deviation_ts = monthly_storage_deviation.map(storage_timeseries).filter(ee.Filter.neq(\"storage\",None))"
   ]
  },
  {
   "cell_type": "code",
   "execution_count": null,
   "metadata": {
    "id": "RbsCrBRhNuT-"
   },
   "outputs": [],
   "source": [
    "# extract out the timeseries information from the collection\n",
    "timeseries = monthly_storage_deviation_ts.aggregate_array(\"storage\").getInfo()\n",
    "timestamp = monthly_storage_deviation_ts.aggregate_array(\"system:time_start\").getInfo()"
   ]
  },
  {
   "cell_type": "code",
   "execution_count": null,
   "metadata": {
    "id": "eSTEcZZ0Nycy"
   },
   "outputs": [],
   "source": [
    "# convert the data into a pandas DataFrame\n",
    "dates = pd.to_datetime(np.array(timestamp)*1e6)\n",
    "storage_deviation_series = pd.Series(timeseries,index=dates,name=\"d Storage\")"
   ]
  },
  {
   "cell_type": "code",
   "execution_count": null,
   "metadata": {
    "id": "leloXS88N4XP"
   },
   "outputs": [],
   "source": [
    "ax = storage_deviation_series.plot.bar(figsize=(10,7));\n",
    "\n",
    "ax.set_xticklabels([x.strftime(\"%Y-%m\") if x.month == 1 else \"\" for x in storage_deviation_series.index ], rotation=45);\n",
    "ax.set_ylabel(\"Storage from normal [mm]\");"
   ]
  },
  {
   "cell_type": "markdown",
   "metadata": {
    "id": "ece1jADVMW3x"
   },
   "source": [
    "Just for fun, let's calculate the storage trends in space to see where within the basin we expect to see increases or decreases in storage. We will use a \n",
    "[Sen's slope](https://en.wikipedia.org/wiki/Theil%E2%80%93Sen_estimator) reducer to calculate the trend in time. (Note: Sen's slope is a popular linear trend analysis for time series)\n",
    "\n",
    "To apply the Sen's slope reducer in Earth Engine, we just need time and the parameter we are trying to estimate then call the reducer:"
   ]
  },
  {
   "cell_type": "code",
   "execution_count": null,
   "metadata": {
    "id": "Jdbgi8X5CoyR"
   },
   "outputs": [],
   "source": [
    "# apply Sen's slope reduction in time\n",
    "trend_coefs = monthly_storage_deviation.select(\"t\",\"storage\").reduce(ee.Reducer.sensSlope())"
   ]
  },
  {
   "cell_type": "markdown",
   "metadata": {
    "id": "uF6CS_wmPk2O"
   },
   "source": [
    "This will result in an image  with two bands: \"slope\" and \"offset\". The slope will tell is the change per month in time and we can add that to a map:"
   ]
  },
  {
   "cell_type": "code",
   "execution_count": null,
   "metadata": {
    "id": "Lw3xGLhJFErl"
   },
   "outputs": [],
   "source": [
    "wet_yr = monthly_storage_deviation.filterDate(\"2011-05-01\",\"2011-11-01\").mean()\n",
    "dry_yr = monthly_storage_deviation.filterDate(\"2014-11-01\",\"2015-05-01\").mean()"
   ]
  },
  {
   "cell_type": "code",
   "execution_count": null,
   "metadata": {
    "id": "B7E2MEXaLynr"
   },
   "outputs": [],
   "source": [
    "# Visualize the results\n",
    "Map = geemap.Map()\n",
    "\n",
    "Map.centerObject(basin,7)\n",
    "\n",
    "Map.addLayer(basin, {}, 'AOI')\n",
    "# add layer with monthly mean. note that we clip for the basin of interest\n",
    "Map.addLayer(monthly_storage.mean().clip(basin),{\"min\":-75,\"max\":75,\"palette\":cmaps.get_palette(\"RdYlBu\")},\"Mean Monthly Storage\");\n",
    "\n",
    "Map.addLayer(wet_yr.clip(basin),{\"bands\":\"storage\", \"min\":-75,\"max\":75,\"palette\":cmaps.get_palette(\"RdYlBu\")},\"Wet Yr Mean Monthly Storage\");\n",
    "Map.addLayer(dry_yr.clip(basin),{\"bands\":\"storage\", \"min\":-25,\"max\":25,\"palette\":cmaps.get_palette(\"RdYlBu\")},\"Dry Yr Mean Monthly Storage\");\n",
    "\n",
    "Map.addLayer(trend_coefs.clip(basin),{\"bands\":\"slope\",\"min\":-3,\"max\":3,\"palette\":cmaps.get_palette(\"plasma\")},\"Monthly Storage Trend\");\n",
    "\n",
    "\n",
    "\n",
    "Map.addLayerControl()\n",
    "\n",
    "Map"
   ]
  }
 ],
 "metadata": {
  "colab": {
   "authorship_tag": "ABX9TyOxpqpNsObrJrFiGqJTTb8K",
   "collapsed_sections": [],
   "name": "Lab 11 - Water Balance from remote sensing.ipynb",
   "private_outputs": true,
   "provenance": []
  },
  "environment": {
   "kernel": "python3",
   "name": "common-cpu.m93",
   "type": "gcloud",
   "uri": "gcr.io/deeplearning-platform-release/base-cpu:m93"
  },
  "kernelspec": {
   "display_name": "Python 3",
   "language": "python",
   "name": "python3"
  },
  "language_info": {
   "codemirror_mode": {
    "name": "ipython",
    "version": 3
   },
   "file_extension": ".py",
   "mimetype": "text/x-python",
   "name": "python",
   "nbconvert_exporter": "python",
   "pygments_lexer": "ipython3",
   "version": "3.7.12"
  }
 },
 "nbformat": 4,
 "nbformat_minor": 4
}
