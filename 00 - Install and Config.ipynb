{
 "cells": [
  {
   "cell_type": "markdown",
   "id": "0d63b74d-4137-47bf-b443-29613bf35244",
   "metadata": {},
   "source": [
    "# Install Dependencies"
   ]
  },
  {
   "cell_type": "markdown",
   "id": "81bbe4b4-abdf-4017-9513-cc169e19d419",
   "metadata": {},
   "source": [
    "This will install the geemap and earthengine-api packages\n",
    "You will have to restart the kernel after the install"
   ]
  },
  {
   "cell_type": "code",
   "execution_count": null,
   "id": "f23b7cf3-7d95-4355-a5ed-3699ee556833",
   "metadata": {},
   "outputs": [],
   "source": [
    "pip install geemap jupyter jupyterlab --user &> install.txt"
   ]
  },
  {
   "cell_type": "markdown",
   "id": "dab8bf9b-2b26-4d59-850f-c520a941dc20",
   "metadata": {},
   "source": [
    "Now fix iPyLeaflet"
   ]
  },
  {
   "cell_type": "code",
   "execution_count": null,
   "id": "47b5f503-c55e-43cc-95b8-27882edc1de0",
   "metadata": {},
   "outputs": [],
   "source": [
    "! jupyter labextension install @jupyter-widgets/jupyterlab-manager jupyter-leaflet"
   ]
  },
  {
   "cell_type": "markdown",
   "id": "cfb40a0c-702a-440d-b92a-4bc346ef5633",
   "metadata": {},
   "source": [
    "Now you will have to restart the browser after the iPyLeaflet fix"
   ]
  },
  {
   "cell_type": "code",
   "execution_count": null,
   "id": "0ca51a1b-20ea-495b-9a79-6c82877c1199",
   "metadata": {},
   "outputs": [],
   "source": [
    "import ee\n",
    "import geemap"
   ]
  },
  {
   "cell_type": "code",
   "execution_count": null,
   "id": "5a29481e-1554-493f-9339-70ae0d5f8720",
   "metadata": {},
   "outputs": [],
   "source": [
    "Map = geemap.Map(center=(40, -100), zoom=4)\n",
    "Map"
   ]
  }
 ],
 "metadata": {
  "environment": {
   "kernel": "python3",
   "name": "common-cpu.m93",
   "type": "gcloud",
   "uri": "gcr.io/deeplearning-platform-release/base-cpu:m93"
  },
  "kernelspec": {
   "display_name": "Python 3",
   "language": "python",
   "name": "python3"
  },
  "language_info": {
   "codemirror_mode": {
    "name": "ipython",
    "version": 3
   },
   "file_extension": ".py",
   "mimetype": "text/x-python",
   "name": "python",
   "nbconvert_exporter": "python",
   "pygments_lexer": "ipython3",
   "version": "3.7.12"
  }
 },
 "nbformat": 4,
 "nbformat_minor": 5
}
