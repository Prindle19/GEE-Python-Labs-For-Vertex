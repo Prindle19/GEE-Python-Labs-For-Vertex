{
 "cells": [
  {
   "cell_type": "markdown",
   "metadata": {
    "id": "lhfooQXNMJuK"
   },
   "source": [
    "# Lab 12: Remote sensing of Snow\n",
    "\n",
    "**Purpose:** The following notebook provides examples for processing snow information from remote sensing datasets. Students will walk through the algorithm to calculate snow cover from remote sensing data as well as a methodology that was developed to demonstrate how to produce annual maps representing the first day within a year where a given pixel reaches zero percent snow cover."
   ]
  },
  {
   "cell_type": "code",
   "execution_count": null,
   "metadata": {
    "id": "vh3Y_oJVNIC7"
   },
   "outputs": [],
   "source": [
    "%pylab inline"
   ]
  },
  {
   "cell_type": "code",
   "execution_count": null,
   "metadata": {
    "id": "AHYK0XbQMqxX"
   },
   "outputs": [],
   "source": [
    "# import ee api and geemap package\n",
    "import ee\n",
    "import math\n",
    "import geemap\n",
    "import pandas as pd\n",
    "from geemap import colormaps as cmaps"
   ]
  },
  {
   "cell_type": "code",
   "execution_count": null,
   "metadata": {
    "id": "CknzLHNqMqpZ"
   },
   "outputs": [],
   "source": [
    "# try to initalize an ee session\n",
    "# if not authenticated then run auth workflow and initialize\n",
    "try:\n",
    "    ee.Initialize()\n",
    "except:\n",
    "    ee.Authenticate()\n",
    "    ee.Initialize()"
   ]
  },
  {
   "cell_type": "markdown",
   "metadata": {
    "id": "7pr1Qy6_Ogr8"
   },
   "source": [
    "## Background\n",
    "\n",
    "Snow is a very important process to hydrology. It has broad ecological implications and thus impacts human livelihoods, particularly in and around high latitude and mountainous systems.\n",
    "\n",
    "One of the most important phases of the hydrologic cycle within these regions, the annual melting of accumulated winter snowfall provides the dominant source of water for streamflow and groundwater recharge for approximately one sixth of the global population\n",
    "\n",
    "The anticipated warmer temperatures will alter the type and onset of precipitation; multiple regions, including the Rocky Mountains of North America have already measured a reduction in snowpack volume and warmer temperatures have shifted precipitation from snowfall to rain, causing snowmelt to occur earlier\n",
    "\n",
    "This tutorial calculates the first day of no snow annually at the pixel level, providing the user with the ability to track the seasonal and interannual variability in the timing of snowmelt toward a better understanding of how the hydrological cycles of higher latitude and mountainous regions are responding to climate change.\n",
    "\n",
    "\n"
   ]
  },
  {
   "cell_type": "markdown",
   "metadata": {
    "id": "LiDp39uRPBMN"
   },
   "source": [
    "## Calculating Snow Cover\n",
    "\n",
    "Here we will apply the snow cover mapping algorithm to a Landsat image to exercise our image processing skills by calculating snow cover from scratch. Snow cover is calculated using a straighforward process of thresholds with some twists. First we will calculate some indices, apply thresholds from published research, and apply a relationship between vegetation and snow to get a more accurate snow cover estimate.\n",
    "\n",
    "The process is taken from the MODIS snow product [Algorithm Theoretical Basis Document (ATBD)](https://modis-snow-ice.gsfc.nasa.gov/?c=atbd&t=atbd)"
   ]
  },
  {
   "cell_type": "code",
   "execution_count": null,
   "metadata": {
    "id": "Mux87fvC8FHz"
   },
   "outputs": [],
   "source": [
    "# load in a landsat image for a snow area\n",
    "pt = ee.Geometry.Point(-151.278028, 63.177048) # Denali National Park\n",
    "\n",
    "img = (\n",
    "    ee.ImageCollection(\"LANDSAT/LC08/C02/T1_L2\")\n",
    "    # filter for Denali national park\n",
    "    .filterBounds(pt)\n",
    "     # filter for sep/oct, we want snow but not all snow\n",
    "    .filter(ee.Filter.calendarRange(9,10,\"month\"))\n",
    "    # sort by cloud cover, we want clear imager\n",
    "    .sort(\"CLOUD_COVER\")\n",
    "    .first()\n",
    "    # select only the reflectance bands\n",
    "    .select(\"SR_B[1-7]\")\n",
    "    # rescale to reflectance values\n",
    "    .multiply(0.0000275).add(-0.2)\n",
    ")"
   ]
  },
  {
   "cell_type": "code",
   "execution_count": null,
   "metadata": {
    "id": "XsRT4Vvq1zws"
   },
   "outputs": [],
   "source": [
    "# Visualize the results\n",
    "Map = geemap.Map()\n",
    "\n",
    "Map.centerObject(img,10)\n",
    "\n",
    "Map.addLayer(img, {\"bands\":\"SR_B4,SR_B3,SR_B2\",\"min\": 0.0, \"max\": 0.33, \"gamma\":1.3}, 'Landsat 8 VIS');\n",
    "Map.addLayer(img, {\"bands\":\"SR_B7,SR_B5,SR_B3\",\"min\": 0.05, \"max\": 0.55, \"gamma\":1.5}, 'Landsat 8');\n",
    "\n",
    "Map.addLayerControl()\n",
    "\n",
    "Map"
   ]
  },
  {
   "cell_type": "markdown",
   "metadata": {
    "id": "qceqshV-36il"
   },
   "source": [
    "The snow cover algorithm is largely based off of the Normalized Difference Snow Index (NDSI), however, we need to account for snow in forested areas (i.e. mixed pixels) so we will also calculate NDVI."
   ]
  },
  {
   "cell_type": "code",
   "execution_count": null,
   "metadata": {
    "id": "o4jI6bu-2ivu"
   },
   "outputs": [],
   "source": [
    "# define function for calculating NDVI and NDSI for image\n",
    "def calc_indices(img):\n",
    "    ndsi = img.normalizedDifference([\"SR_B3\",\"SR_B6\"]).rename(\"ndsi\")\n",
    "    ndvi = img.normalizedDifference([\"SR_B5\",\"SR_B4\"]).rename(\"ndvi\")\n",
    "    return img.addBands(ndsi).addBands(ndvi)\n",
    "\n",
    "# apply function to add indices\n",
    "img_indices = calc_indices(img)"
   ]
  },
  {
   "cell_type": "markdown",
   "metadata": {
    "id": "THshFNGd3sg5"
   },
   "source": [
    "Set threshold values from section 4.2.1 of the ATBD:"
   ]
  },
  {
   "cell_type": "code",
   "execution_count": null,
   "metadata": {
    "id": "vo_8THhA23kc"
   },
   "outputs": [],
   "source": [
    "# greater than threshold, then snow\n",
    "ndsi_threshold = 0.4\n",
    "\n",
    "# used to seperate water vs snow\n",
    "# snow reflects more in the nir band than water\n",
    "nir_water_threshold = 0.11\n",
    "\n",
    "# used to prevent pixels with very low visible reflectances\n",
    "# for example black spruce stands\n",
    "grn_dark_threshold = 0.1"
   ]
  },
  {
   "cell_type": "code",
   "execution_count": null,
   "metadata": {
    "id": "boE28oh64Yni"
   },
   "outputs": [],
   "source": [
    "# apply thresholds to the appropriate bands\n",
    "ndsi_mask = img_indices.select(\"ndsi\").gt(ndsi_threshold)\n",
    "\n",
    "nir_mask = img_indices.select(\"SR_B5\").gt(nir_water_threshold)\n",
    "grn_mask = img_indices.select(\"SR_B3\").gt(grn_dark_threshold)"
   ]
  },
  {
   "cell_type": "markdown",
   "metadata": {
    "id": "46SCS-FU_O-f"
   },
   "source": [
    "Now for the \"fun\" part, we need to create a mask based on the relationship of NDVI and NDSI. The equations for NDVI-NDSI mask were estimated from interpreting figure 6 from [Klein et al., 1998](https://doi.org/10.1002/(SICI)1099-1085(199808/09)12:10/11%3C1723::AID-HYP691%3E3.0.CO;2-2). This uses [ternary operations](https://developers.google.com/earth-engine/guides/image_relational#conditional-operators) to combine some arithmetric and conditional statements into one crazy expression."
   ]
  },
  {
   "cell_type": "code",
   "execution_count": null,
   "metadata": {
    "id": "p5PaRIdS7kYu"
   },
   "outputs": [],
   "source": [
    "# create a mask from th\n",
    "ndvi_ndsi_mask = img_indices.expression(\"(ndsi < 0.4 ? 1 : 0) & \" +\n",
    "                                        \"(ndvi > (ndsi * -0.5 + 0.3) ? 1 : 0) & \"+\n",
    "                                        \"(ndsi > (ndvi * -0.4 + 0.04) ? 1 : 0)\",\n",
    "    {\n",
    "        \"ndvi\": img_indices.select(\"ndvi\"),\n",
    "        \"ndsi\": img_indices.select(\"ndsi\")\n",
    "    }\n",
    ")"
   ]
  },
  {
   "cell_type": "code",
   "execution_count": null,
   "metadata": {
    "id": "q5CZ860U6JSg"
   },
   "outputs": [],
   "source": [
    "# combine the masks\n",
    "# use ndsi OR ndvi-ndsi because they do not overlap\n",
    "# then apply AND for the other because they overlap\n",
    "snow_mask = ndsi_mask.Or(ndvi_ndsi_mask).And(nir_mask).And(grn_mask)"
   ]
  },
  {
   "cell_type": "code",
   "execution_count": null,
   "metadata": {
    "id": "g7eBQ_cq6Qwt"
   },
   "outputs": [],
   "source": [
    "# Visualize the results\n",
    "Map = geemap.Map()\n",
    "\n",
    "Map.centerObject(img,10)\n",
    "\n",
    "Map.addLayer(img_indices, {\"bands\":\"SR_B7,SR_B5,SR_B3\",\"min\": 0.05, \"max\": 0.55, \"gamma\":1.5}, 'Landsat 8');\n",
    "Map.addLayer(img_indices, {\"bands\":\"ndsi\",\"min\": -0.1, \"max\": 1}, 'NDSI');\n",
    "Map.addLayer(snow_mask.selfMask(), {\"min\": -1, \"max\": 1, \"palette\":\"black,magenta\"}, 'Snow Cover');\n",
    "Map.addLayer(ndvi_ndsi_mask.selfMask(), {\"min\": -1, \"max\": 1, \"palette\":\"black,limegreen\"}, 'Veg Snow Cover');\n",
    "\n",
    "\n",
    "Map.addLayerControl()\n",
    "\n",
    "Map"
   ]
  },
  {
   "cell_type": "markdown",
   "metadata": {
    "id": "1cJXJf4HDkcV"
   },
   "source": [
    "The resulting snow mask is not the exact solution because of estimating the equations for the NDVI-NDSI relationship, however, this illustrates the process an implmentation using Earth Engine."
   ]
  },
  {
   "cell_type": "markdown",
   "metadata": {
    "id": "ambfmAABPEK1"
   },
   "source": [
    "## Identifying the First Day of Zero Percent Snow Cover\n",
    "\n",
    "This section covers building an ImageCollection where each image is a mosaic of pixels that describe the first day in a given year that zero percent snow cover is recorded. Snow cover is defined by the MODIS NDSI Snow Cover product.\n"
   ]
  },
  {
   "cell_type": "markdown",
   "metadata": {
    "id": "2LhUmQn38sOm"
   },
   "source": [
    "### Set up our analysis\n",
    "\n",
    "Here we are going to set up some variables for our process. First we define the day-of-year (DOY) to start the search for the first day with zero percent snow cover. For applications in the northern hemisphere, you will likely want to start with January 1st (DOY 1). However, if you are studying snowmelt timing in the southern hemisphere (e.g., the Andes), where snowmelt can occur on dates either side of the new year, it is more appropriate to start the year on July 1st (DOY 183), for instance."
   ]
  },
  {
   "cell_type": "code",
   "execution_count": null,
   "metadata": {
    "id": "9_d0eAJxOgMB"
   },
   "outputs": [],
   "source": [
    "start_doy = 1"
   ]
  },
  {
   "cell_type": "markdown",
   "metadata": {
    "id": "53fyAhvi8yyO"
   },
   "source": [
    "Define the year to start and end tracking snow cover fraction. All years in the range will be included in the analysis."
   ]
  },
  {
   "cell_type": "code",
   "execution_count": null,
   "metadata": {
    "id": "dNhVzuurMqlk"
   },
   "outputs": [],
   "source": [
    "start_year = 2000\n",
    "end_year = 2021\n",
    "\n",
    "years = ee.List.sequence(start_year, end_year)"
   ]
  },
  {
   "cell_type": "markdown",
   "metadata": {
    "id": "eKw1a-lmAtA8"
   },
   "source": [
    "Import the MODIS Snow Cover Daily Global 500m product and select the `NDSI_Snow_Cover` band.\n",
    "\n",
    "Note: this is the collection we will be using to calculate date of snowmelt!"
   ]
  },
  {
   "cell_type": "code",
   "execution_count": null,
   "metadata": {
    "id": "qBSXdq-mAkZG"
   },
   "outputs": [],
   "source": [
    "# import collection\n",
    "snow_collection = (\n",
    "    ee.ImageCollection('MODIS/006/MOD10A1')\n",
    "    .select('NDSI_Snow_Cover')\n",
    ")"
   ]
  },
  {
   "cell_type": "markdown",
   "metadata": {
    "id": "QcH2BGg1x7Bv"
   },
   "source": [
    "We do not apply any QA masking on our image collection...why?!"
   ]
  },
  {
   "cell_type": "markdown",
   "metadata": {
    "id": "kczQ3tH2ybOh"
   },
   "source": [
    "### Define an analysis mask\n",
    "\n",
    "We did not apply a QA mask but we still need to constrain our analysis to relevant areas. This mask can be used to constrain the analysis to certain latitudes (`ee.Image.pixelLonLat()`), land cover types, geometries, etc. In this case we will: 1) mask out water so that the analysis is confined to pixels over landforms only; 2) mask out pixels that have very few days of snow cover; 3) mask out pixels that are snow covered for a good deal of the year (e.g., glaciers).\n",
    "\n"
   ]
  },
  {
   "cell_type": "markdown",
   "metadata": {
    "id": "sTrc1mhfA5Q1"
   },
   "source": [
    "Import the MODIS water/land mask dataset, select the `water_mask` band, and set all land pixels to value 1:"
   ]
  },
  {
   "cell_type": "code",
   "execution_count": null,
   "metadata": {
    "id": "_tgrli0q84Cv"
   },
   "outputs": [],
   "source": [
    "# Load in the MODIS water mask data\n",
    "# set all land pixels to 1 and water pixels to 0\n",
    "water_mask = (\n",
    "    ee.Image('MODIS/MOD44W/MOD44W_005_2000_02_24')\n",
    "    .select('water_mask')\n",
    "    .Not()\n",
    ")"
   ]
  },
  {
   "cell_type": "markdown",
   "metadata": {
    "id": "HS-agwqeHG_M"
   },
   "source": [
    "Mask pixels based on frequency of snow cover:"
   ]
  },
  {
   "cell_type": "code",
   "execution_count": null,
   "metadata": {
    "id": "u8iomZqqAk80"
   },
   "outputs": [],
   "source": [
    "# function to convert 'NDSI_snow_cover' to binary mask\n",
    "# uses a threshold of 10%\n",
    "def is_snow(img):\n",
    "    return img.gte(10)\n",
    "\n",
    "# get the number of snow days\n",
    "snow_days =  (\n",
    "    snow_collection.filterDate('2018-01-01', '2019-01-01')\n",
    "    .map(is_snow)\n",
    "    .sum()\n",
    ")\n",
    "\n",
    "# Pixels must have been snow covered for at least 2 weeks in 2018\n",
    "emphemeral_snow_cover = snow_days.gte(14)\n",
    "\n",
    "# Pixels must not be snow covered more than 150 days in 2018.\n",
    "const_snow_cover = snow_days.lte(150)"
   ]
  },
  {
   "cell_type": "markdown",
   "metadata": {
    "id": "lD3Sxj1BH6q6"
   },
   "source": [
    "Combine the water mask and the snow cover frequency masks and apply mask to each image:"
   ]
  },
  {
   "cell_type": "code",
   "execution_count": null,
   "metadata": {
    "id": "B_-RXSwDG_2P"
   },
   "outputs": [],
   "source": [
    "analysis_mask = water_mask.And(emphemeral_snow_cover).And(const_snow_cover)\n",
    "\n",
    "# snow_collection = snow_collection.map(lambda x: x.updateMask(analysis_mask))"
   ]
  },
  {
   "cell_type": "code",
   "execution_count": null,
   "metadata": {
    "id": "GzA4-d_jExaN"
   },
   "outputs": [],
   "source": [
    "# get a mosaic for winter months\n",
    "djf_mosaic = snow_collection.filter(ee.Filter.calendarRange(start=12,end=1,field=\"month\")).mean()"
   ]
  },
  {
   "cell_type": "code",
   "execution_count": null,
   "metadata": {
    "id": "lB3bkY5zB2-D"
   },
   "outputs": [],
   "source": [
    "# Visualize the results\n",
    "Map = geemap.Map()\n",
    "\n",
    "Map.addLayer(djf_mosaic, {\"min\": 0, \"max\": 100, \"palette\": cmaps.get_palette(\"inferno\")}, 'Average DJF Snow');\n",
    "\n",
    "Map.addLayerControl()\n",
    "\n",
    "Map"
   ]
  },
  {
   "cell_type": "markdown",
   "metadata": {
    "id": "kR9ePPLBxVUH"
   },
   "source": [
    "### Identify the first day of the year without snow per pixel, per year\n",
    "\n",
    "We want to calculate when each pixel goes to 0 for a given year. To do so we will implment the following steps for each year:\n",
    "\n",
    "1. Define the start and end dates to filter the dataset for the given year.\n",
    "2. Filter the image collection by the date range.\n",
    "3. Add the date bands to each image in the filtered collection.\n",
    "4. Sort the filtered collection by date. (Note: to determine the first day with snow accumulation in the fall, reverse sort the filtered collection.)\n",
    "5. Make a mosaic using the min reducer to select the pixel with 0 (minimum) snow cover. Since the collection is sorted by date, the first image with 0 snow cover is selected. This operation is conducted per-pixel to build the complete image mosaic.\n",
    "6. Apply the analysis mask to the resulting mosaic.\n"
   ]
  },
  {
   "cell_type": "code",
   "execution_count": null,
   "metadata": {
    "id": "CUHY7cpmIbno"
   },
   "outputs": [],
   "source": [
    "def detect_no_snow(year):\n",
    "    # function for setting date band information\n",
    "    def add_date_bands(img):\n",
    "        # Get image date.\n",
    "        date = img.date();\n",
    "        # Get calendar day-of-year.\n",
    "        cal_doy = date.getRelative('day', 'year');\n",
    "        # Get relative day-of-year; enumerate from user-defined startDoy.\n",
    "        rel_doy = date.difference(start_date, 'day');\n",
    "        # Get the date as milliseconds from Unix epoch.\n",
    "        millis = date.millis();\n",
    "        # Add all of the above date info as bands to the snow fraction image.\n",
    "        date_bands = (\n",
    "            ee.Image.constant([cal_doy, rel_doy, millis, year])\n",
    "            .rename(['calDoy', 'relDoy', 'millis', 'year'])\n",
    "        )\n",
    "        # Cast bands to correct data type before returning the image.\n",
    "        return (\n",
    "            img.addBands(date_bands)\n",
    "            .cast({'calDoy': 'float', 'relDoy': 'float', 'millis': 'long','year': 'int'})\n",
    "            .set('millis', millis)\n",
    "        )\n",
    "\n",
    "    # Get the first day-of-year for this year as an ee.Date object.\n",
    "    first_doy = ee.Date.fromYMD(year, 1, 1)\n",
    "\n",
    "    # Advance from the firstDoy to the user-defined startDay; subtract 1 since\n",
    "    # firstDoy is already 1. Set the result as the global startDate variable so\n",
    "    # that it is accessible to the addDateBands mapped to the collection below.\n",
    "    start_date = first_doy.advance(start_doy-1, 'day');\n",
    "    # Get endDate for this year by advancing 1 year from startDate.\n",
    "    # Need to advance an extra day because end date of filterDate() function\n",
    "    # is exclusive.\n",
    "    end_date = start_date.advance(1, 'year').advance(1, 'day');\n",
    "    \n",
    "    # Filter the complete collection by the start and end dates just defined.\n",
    "    year_col = snow_collection.filterDate(start_date, end_date)\n",
    "\n",
    "\n",
    "    # Construct an image where pixels represent the first day within the date\n",
    "    # range that the lowest snow fraction is observed.\n",
    "    no_snow_img = (\n",
    "        year_col\n",
    "        .map(add_date_bands)\n",
    "        # Sort the images by ascending time to identify the first day without\n",
    "        # snow. Alternatively, you can use .sort('millis', false) to\n",
    "        # reverse sort (find first day of snow in the fall).\n",
    "        .sort('millis')\n",
    "        # Make a mosaic composed of pixels from images that represent the\n",
    "        # observation with the minimum percent snow cover (defined by the\n",
    "        # NDSI_Snow_Cover band); include all associated bands for the selected\n",
    "        # image.\n",
    "        .reduce(ee.Reducer.min(5))\n",
    "        # Rename the bands - band names were altered by previous operation.\n",
    "        .rename(['snowCover', 'calDoy', 'relDoy', 'millis', 'year'])\n",
    "        # Set the year as a property for filtering by later.\n",
    "        .set('year', year)\n",
    "        # Apply the mask.\n",
    "        .updateMask(analysis_mask)\n",
    "    )\n",
    "\n",
    "    # Mask by minimum snow fraction - only include pixels that reach 0\n",
    "    # percent cover. Return the resulting image.\n",
    "    return no_snow_img.updateMask(no_snow_img.select('snowCover').eq(0))\n"
   ]
  },
  {
   "cell_type": "code",
   "execution_count": null,
   "metadata": {
    "id": "fy-uvi4oQO6V"
   },
   "outputs": [],
   "source": [
    "# apply algorithm\n",
    "annual_no_snow = ee.ImageCollection.fromImages(years.map(detect_no_snow))"
   ]
  },
  {
   "cell_type": "markdown",
   "metadata": {
    "id": "Ag50yqpLxFnp"
   },
   "source": [
    "Next we will filter a single year (2019 in the example below) from the collection and display the image to the Map to see spatial patterns of snowmelt timing"
   ]
  },
  {
   "cell_type": "code",
   "execution_count": null,
   "metadata": {
    "id": "-KLG_3onQV5m"
   },
   "outputs": [],
   "source": [
    "# set year of interest to display\n",
    "year_of_interest = 2019"
   ]
  },
  {
   "cell_type": "code",
   "execution_count": null,
   "metadata": {
    "id": "e27OHZMpQhEa"
   },
   "outputs": [],
   "source": [
    "# extract out the image we want\n",
    "first_day_no_snow = annual_no_snow.filter(ee.Filter.eq('year', year_of_interest)).first()"
   ]
  },
  {
   "cell_type": "code",
   "execution_count": null,
   "metadata": {
    "id": "BiCsYNzZQnyU"
   },
   "outputs": [],
   "source": [
    "# Visualize the results\n",
    "Map = geemap.Map()\n",
    "\n",
    "Map.addLayer(first_day_no_snow , {\"bands\":\"calDoy\",\"min\": 0, \"max\": 200, \"palette\": cmaps.get_palette(\"viridis_r\")}, f'First day of no snow, {year_of_interest}');\n",
    "\n",
    "Map.addLayerControl()\n",
    "\n",
    "Map.add_colorbar({\"bands\":\"calDoy\",\"min\": 0, \"max\": 200, \"palette\": cmaps.get_palette(\"viridis_r\")}, label='First day of no snow')\n",
    "\n",
    "Map"
   ]
  },
  {
   "cell_type": "markdown",
   "metadata": {
    "id": "V20VXqJCwYef"
   },
   "source": [
    "### Time series calculation\n",
    "\n",
    "To visually understand the temporal patterns of the first date of no snow through time, we can display our results in a time series chart. In this case we will see if the first day without snow changes in time for Utah. We are also going to go one step further and calculate this trend for different elevation areas:"
   ]
  },
  {
   "cell_type": "code",
   "execution_count": null,
   "metadata": {
    "id": "Q6QaSdNXbr35"
   },
   "outputs": [],
   "source": [
    "# load in the UT state feature\n",
    "ut = (\n",
    "    ee.FeatureCollection(\"TIGER/2018/States\")\n",
    "    .filter(ee.Filter.eq(\"NAME\",\"Utah\"))\n",
    ")"
   ]
  },
  {
   "cell_type": "code",
   "execution_count": null,
   "metadata": {
    "id": "F7uUByccYZ30"
   },
   "outputs": [],
   "source": [
    "# load in a DEM image\n",
    "elv = ee.Image(\"NASA/NASADEM_HGT/001\").select(\"elevation\")"
   ]
  },
  {
   "cell_type": "code",
   "execution_count": null,
   "metadata": {
    "id": "StwnDmRmcdTj"
   },
   "outputs": [],
   "source": [
    "# specify number of elevation bands to create\n",
    "n_bands = ee.List.sequence(0,5)\n",
    "# set starting height\n",
    "base_band = ee.Number(500)\n",
    "# set interval for band\n",
    "band_height = ee.Number(500)"
   ]
  },
  {
   "cell_type": "code",
   "execution_count": null,
   "metadata": {
    "id": "XvxkY_cWcAr_"
   },
   "outputs": [],
   "source": [
    "# define a function to calculate \n",
    "def calc_band(i):\n",
    "    return ee.Image.constant(0).where(elv.gt(base_band.add(band_height.multiply(i))),1)\n",
    "\n",
    "elv_bands = ee.ImageCollection.fromImages(n_bands.map(calc_band)).sum().clip(ut.geometry())"
   ]
  },
  {
   "cell_type": "code",
   "execution_count": null,
   "metadata": {
    "id": "CCE3ylO0dV3i"
   },
   "outputs": [],
   "source": [
    "# Visualize the results\n",
    "Map = geemap.Map()\n",
    "\n",
    "Map.centerObject(ut,7)\n",
    "\n",
    "Map.addLayer(ut, {}, 'Utah');\n",
    "Map.addLayer(elv_bands, {\"min\":1,\"max\":6,\"palette\":cmaps.get_palette(\"gist_earth\")}, 'Elevation bands');\n",
    "\n",
    "Map.addLayerControl()\n",
    "\n",
    "Map"
   ]
  },
  {
   "cell_type": "code",
   "execution_count": null,
   "metadata": {
    "id": "hYIcatKydp4D"
   },
   "outputs": [],
   "source": [
    "def avg_no_snow(i):\n",
    "    def avg_band(img):\n",
    "        # apply reduction to get the average for the elevation band of interest\n",
    "        avg = img.select(\"calDoy\").updateMask(elv_band_mask).reduceRegion(\n",
    "            geometry = ut.geometry(1e3).bounds(1e3),\n",
    "            reducer = ee.Reducer.mean(),\n",
    "            scale = 500,\n",
    "            bestEffort=True,\n",
    "            tileScale=4\n",
    "        )\n",
    "        return img.set(avg)\n",
    "\n",
    "    # get which elevation band we are working on\n",
    "    i = ee.Number(i)\n",
    "    elv_band_mask = elv_bands.eq(i.add(1))\n",
    "\n",
    "    # apply reductions\n",
    "    val_col = annual_no_snow.map(avg_band)\n",
    "    # return only the list as we will combine them\n",
    "    return val_col.aggregate_array(\"calDoy\")\n",
    "\n",
    "\n",
    "# wrap multiple requests in a loop\n",
    "# this will help prevent the dreaded \"Too many concurrent aggregations\" error\n",
    "snow_list = []\n",
    "for i in range(1,6):\n",
    "    i_band_avg = avg_no_snow(i) # apply function\n",
    "    snow_list.append(i_band_avg.getInfo()) # append results\n"
   ]
  },
  {
   "cell_type": "code",
   "execution_count": null,
   "metadata": {
    "id": "DHZAm1dfotXw"
   },
   "outputs": [],
   "source": [
    "# get a list of bands and the bottom elevation value\n",
    "band_names = [f\"band_{500+(i*500)}\" for i in range(1,6)]\n",
    "\n",
    "# create a dictionary from the lists and band names\n",
    "df_dict = {bname: snow_list[i] for i,bname in enumerate(band_names)}"
   ]
  },
  {
   "cell_type": "code",
   "execution_count": null,
   "metadata": {
    "id": "rpFgxPT4gizX"
   },
   "outputs": [],
   "source": [
    "# create a dataframe from the time series information\n",
    "df = pd.DataFrame(df_dict, index=years.getInfo())"
   ]
  },
  {
   "cell_type": "code",
   "execution_count": null,
   "metadata": {
    "id": "jB3v2j7eglVG"
   },
   "outputs": [],
   "source": [
    "df.plot(figsize=(10,5),marker=\"o\");"
   ]
  },
  {
   "cell_type": "markdown",
   "metadata": {
    "id": "6CR5UUGbtz8k"
   },
   "source": [
    "# Assignment\n",
    "\n",
    "1. Often times it is useful to compare the change from a reference year. For this question, we will compare year-to-year difference in melt timing by selecting two years of interest from the collection and subtracting them. Calculate the difference between 2013 and 2012 and display the results on a map.\n",
    "\n",
    "2. It is also possible to identify trends in the shifting first DOY with no snow by calculating the slope through a pixel’s time series points. For this quesitons, apply a Sen's Slope reducer (i.e. `ee.Reducer.sensSlope()`) to calculate the annual trend and display the trend (i.e. slope band) on a map. All of the bands required should be calculated for the images. Note: This exercise is about implementing the trend analysis. Goodness of fit is not measured here, nor is significance considered. Inter-annual variability can be influence the slope too."
   ]
  },
  {
   "cell_type": "code",
   "execution_count": null,
   "metadata": {
    "id": "eS4U2eq7vhcA"
   },
   "outputs": [],
   "source": [
    "years = ee.List.sequence(start_year, end_year)"
   ]
  },
  {
   "cell_type": "code",
   "execution_count": null,
   "metadata": {
    "id": "xkLH3ZVxA6mc"
   },
   "outputs": [],
   "source": [
    "# annual_no_snow"
   ]
  },
  {
   "cell_type": "code",
   "execution_count": null,
   "metadata": {
    "id": "agGDQ1BfCFAP"
   },
   "outputs": [],
   "source": [
    "def add_time_band(img):\n",
    "    yr = ee.Number(img.get('year'))\n",
    "    yr_dt = ee.Date.fromYMD(yr, 1,1)\n",
    "    time_off = ee.Date(\"1970-01-01\").difference(yr_dt, \"year\")\n",
    "    # yr_img = ee.Image.constant(yr).float().rename(\"time\")\n",
    "    yr_img = ee.Image.constant(time_off).float().rename(\"time\")\n",
    "    return img.addBands(yr_img)\n",
    "\n",
    "\n",
    "annual_no_snow_time = annual_no_snow.map(add_time_band)"
   ]
  },
  {
   "cell_type": "code",
   "execution_count": null,
   "metadata": {
    "id": "Xghq4T6XChR0"
   },
   "outputs": [],
   "source": [
    "trend = annual_no_snow_time.select([\"time\",\"calDoy\"]).reduce(ee.Reducer.sensSlope())"
   ]
  },
  {
   "cell_type": "code",
   "execution_count": null,
   "metadata": {
    "id": "tWpmSVqPC3FH"
   },
   "outputs": [],
   "source": [
    "# Visualize the results\n",
    "Map = geemap.Map()\n",
    "\n",
    "Map.centerObject(ut,7)\n",
    "\n",
    "Map.addLayer(ut, {}, 'Utah');\n",
    "Map.addLayer(trend, {\"bands\":\"slope\", \"min\":-5,\"max\":5,\"palette\":cmaps.get_palette(\"bwr\")}, 'Day of snowmelt trend');\n",
    "\n",
    "Map.addLayerControl()\n",
    "\n",
    "Map"
   ]
  }
 ],
 "metadata": {
  "colab": {
   "authorship_tag": "ABX9TyN3bUvimxIVjKyLQVD9Mwlu",
   "collapsed_sections": [],
   "name": "Lab 12 - Remote sensing of snow.ipynb",
   "private_outputs": true,
   "provenance": []
  },
  "environment": {
   "kernel": "python3",
   "name": "common-cpu.m93",
   "type": "gcloud",
   "uri": "gcr.io/deeplearning-platform-release/base-cpu:m93"
  },
  "kernelspec": {
   "display_name": "Python 3",
   "language": "python",
   "name": "python3"
  },
  "language_info": {
   "codemirror_mode": {
    "name": "ipython",
    "version": 3
   },
   "file_extension": ".py",
   "mimetype": "text/x-python",
   "name": "python",
   "nbconvert_exporter": "python",
   "pygments_lexer": "ipython3",
   "version": "3.7.12"
  }
 },
 "nbformat": 4,
 "nbformat_minor": 4
}
