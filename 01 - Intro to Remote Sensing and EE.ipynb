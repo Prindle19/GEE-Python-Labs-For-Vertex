{
 "cells": [
  {
   "cell_type": "markdown",
   "metadata": {
    "id": "Rz6dgVEz9QnB"
   },
   "source": [
    "# Lab 1: Introduction to Remote Sensing and Google Earth Engine"
   ]
  },
  {
   "cell_type": "markdown",
   "metadata": {
    "id": "WPiUs52G9Vyv"
   },
   "source": [
    "**Purpose:** The purpose of this lab is to enable you to search, find and visualize remotely sensed imagery in Google Earth Engine.  At completion, you should be able to load imagery, extract image property information, visualize data and work with image collections.\n",
    "\n",
    "\n",
    "**Prerequisites:** If you are new to Python programming, go through [this guide](https://docs.python.org/3/tutorial/index.html).  Review the [Earth Engine documentation](https://developers.google.com/earth-engine/guides) and the [Python Guide](https://developers.google.com/earth-engine/guides/python_install).\n"
   ]
  },
  {
   "cell_type": "markdown",
   "metadata": {
    "id": "52LpHRIKCKaO"
   },
   "source": [
    "A couple of links that are helpful:\n",
    "\n",
    "\n",
    "1.   [Earth Engine Documentation](https://developers.google.com/earth-engine)\n",
    "2.   [Earth Engine API Reference](https://developers.google.com/earth-engine/apidocs)\n",
    "3.   [Earth Engine Data Catalog](https://developers.google.com/earth-engine/datasets)\n",
    "4.   [Earth Engine Best Practices](https://developers.google.com/earth-engine/guides/best_practices)\n",
    "\n"
   ]
  },
  {
   "cell_type": "code",
   "execution_count": null,
   "metadata": {
    "id": "lQvbTNcN_j00"
   },
   "outputs": [],
   "source": [
    "# import ee api and geemap package\n",
    "import ee\n",
    "import geemap\n",
    "from geemap import colormaps as cmaps"
   ]
  },
  {
   "cell_type": "code",
   "execution_count": null,
   "metadata": {
    "id": "AdHCmzQi_zuD"
   },
   "outputs": [],
   "source": [
    "# try to initalize an ee session\n",
    "# if not authenticated then run auth workflow and initialize\n",
    "try:\n",
    "    ee.Initialize()\n",
    "except:\n",
    "    ee.Authenticate()\n",
    "    ee.Initialize()"
   ]
  },
  {
   "cell_type": "markdown",
   "metadata": {
    "id": "tpHID8YmBY0x"
   },
   "source": [
    "## Hello, Earth Engine"
   ]
  },
  {
   "cell_type": "markdown",
   "metadata": {
    "id": "nF0wZQXZDmI2"
   },
   "source": [
    "### Client vs Server side ops\n",
    "\n",
    "It is important to distinguish Earth Engine objects from other Python objects or that might be in your code. You can manipulate objects on the server by manipulating client-side “proxy” objects in your script. You can recognize a proxy object as anything starting with `ee`. These Earth Engine proxy objects do not contain any actual data and are just handles for objects on the server.\n",
    "\n",
    "[Client vs Server docs](https://developers.google.com/earth-engine/guides/client_server)"
   ]
  },
  {
   "cell_type": "code",
   "execution_count": null,
   "metadata": {
    "id": "7rESD1agEHQG"
   },
   "outputs": [],
   "source": [
    "client_string = \"Hello world\"\n",
    "type(client_string)"
   ]
  },
  {
   "cell_type": "code",
   "execution_count": null,
   "metadata": {
    "id": "D7zs1yYuBa-x"
   },
   "outputs": [],
   "source": [
    "server_string = ee.String(\"Hello world\")\n",
    "type(server_string)"
   ]
  },
  {
   "cell_type": "code",
   "execution_count": null,
   "metadata": {
    "id": "47NeyDBNCCY7"
   },
   "outputs": [],
   "source": [
    "print(f\"Client side string:\\n{client_string}\\n\")\n",
    "print(f\"Server side string:\\n{server_string}\\n\")"
   ]
  },
  {
   "cell_type": "markdown",
   "metadata": {
    "id": "wsJ6BIlbEvm2"
   },
   "source": [
    "Remember, Earth Engine proxy objects do not contain any actual data. Therefore, to get the results from Earth Engine, one would need to use the method `.getInfo()`."
   ]
  },
  {
   "cell_type": "code",
   "execution_count": null,
   "metadata": {
    "id": "Ig6TqcRnDP9V"
   },
   "outputs": [],
   "source": [
    "requested_string = server_string.getInfo()\n",
    "print(f\"Server side string:\\n{requested_string}\\n\")"
   ]
  },
  {
   "cell_type": "markdown",
   "metadata": {
    "id": "Xj39ZGFDFkbL"
   },
   "source": [
    "Be careful with using `.getInfo()` as this is requires EE to compute and transfer the data synchronously to the local machine so it can cause slow-downs for your process. This also defeats the purpose of cloud-based computing. However, sometimes `.getInfo()` cannot be avoided so use with caution."
   ]
  },
  {
   "cell_type": "markdown",
   "metadata": {
    "id": "wYZ22wafGNUo"
   },
   "source": [
    "## Loading Earth Engine Data\n",
    "\n",
    "Earth Engine has a data catalog of popular remote sensing data that one can load, explore the structure and process data. Here was are going to load in an elevation dataset and do some processing."
   ]
  },
  {
   "cell_type": "code",
   "execution_count": null,
   "metadata": {
    "id": "wvvN0AcKCE_w"
   },
   "outputs": [],
   "source": [
    "# load the NASA DEM elevation dataset\n",
    "dem = ee.Image(\"NASA/NASADEM_HGT/001\")"
   ]
  },
  {
   "cell_type": "markdown",
   "metadata": {
    "id": "hRUEaV94eUW4"
   },
   "source": [
    "### Properties of Images"
   ]
  },
  {
   "cell_type": "code",
   "execution_count": null,
   "metadata": {
    "id": "IRdTdgrRp1wT"
   },
   "outputs": [],
   "source": [
    "# properties of an image\n",
    "dem.getInfo()"
   ]
  },
  {
   "cell_type": "code",
   "execution_count": null,
   "metadata": {
    "id": "NHGm3guowquI"
   },
   "outputs": [],
   "source": [
    "# get the metadata property from an image\n",
    "dem.get(\"tags\").getInfo()"
   ]
  },
  {
   "cell_type": "code",
   "execution_count": null,
   "metadata": {
    "id": "R_vyoMdWveO2"
   },
   "outputs": [],
   "source": [
    "# print the band information\n",
    "dem.bandNames().getInfo()"
   ]
  },
  {
   "cell_type": "code",
   "execution_count": null,
   "metadata": {
    "id": "0N831KBy-idO"
   },
   "outputs": [],
   "source": [
    "# get spatial metadata from image\n",
    "proj = dem.projection()\n",
    "\n",
    "# from this we can extract different information\n",
    "resolution = proj.nominalScale()\n",
    "geotransform = proj.transform()\n",
    "\n",
    "# print the spatial information\n",
    "print(f\"SRTM resolution: {resolution.getInfo()}\")\n",
    "print(f\"SRTM GeoTransform: {geotransform.getInfo()}\")"
   ]
  },
  {
   "cell_type": "markdown",
   "metadata": {
    "id": "E_hhYwxPHlCz"
   },
   "source": [
    "### A simple processing example\n",
    "\n",
    "To test processing some data we will define a define a point (i.e. geometry) for Mount Everest and request the elevation:"
   ]
  },
  {
   "cell_type": "code",
   "execution_count": null,
   "metadata": {
    "id": "aVoSm2rBHiEN"
   },
   "outputs": [],
   "source": [
    "xy = ee.Geometry.Point([86.9250, 27.9881])\n",
    "elev = dem.sample(xy, 30).first().get('elevation').getInfo()\n",
    "print('Mount Everest elevation (m):', elev)"
   ]
  },
  {
   "cell_type": "markdown",
   "metadata": {
    "id": "W34OAw_4NcFD"
   },
   "source": [
    "### Visualizing Earth Engine Images\n",
    "\n",
    "To visualize the DEM data we will use `geemap` to define an interactive map and add the `ee.Image` object with visulization parameters:"
   ]
  },
  {
   "cell_type": "code",
   "execution_count": null,
   "metadata": {
    "id": "uWR03PXYNRpE"
   },
   "outputs": [],
   "source": [
    "# Display result\n",
    "Map = geemap.Map(zoom=3)\n",
    "\n",
    "Map.addLayer(dem, {\"min\":0,\"max\":3000, \"bands\":\"elevation\", \"palette\":cmaps.get_palette(\"terrain\")}, \"DEM\")\n",
    "\n",
    "Map.addLayerControl()\n",
    "\n",
    "Map"
   ]
  },
  {
   "cell_type": "code",
   "execution_count": null,
   "metadata": {
    "id": "JI_8ofnQpqZB"
   },
   "outputs": [],
   "source": [
    "fc = ee.FeatureCollection(Map.draw_features)"
   ]
  },
  {
   "cell_type": "code",
   "execution_count": null,
   "metadata": {
    "id": "eOF7uSnKqmhL"
   },
   "outputs": [],
   "source": [
    "dem.reduceRegions(\n",
    "    collection=fc,\n",
    "    scale=120,\n",
    "    reducer= ee.Reducer.mean()\n",
    ").getInfo()"
   ]
  },
  {
   "cell_type": "markdown",
   "metadata": {
    "id": "JAeRh_XH_RA_"
   },
   "source": [
    "## Image Collections: An Organized Set of Images\n",
    "\n",
    "You saw some of the basic ways to interact with an individual `ee.Image ` , however, depending on how long a remote-sensing platform has been in operation, there may be thousands or millions of images collected of Earth. In Earth Engine, these are organized into an *ImageCollection*, a specialized data type that has specific operations available in the Earth Engine API.\n",
    "\n",
    "We work with image collections in complex ways later on. For now, we will view and work with their most basic attributes, and use these skills to view some of the major types of image collections in Earth Engine. We will view some of the different types of data sets in the following sections, including climate and weather data, digital elevation models and other terrain data, land cover, cropland, satellite imagery, and others.\n",
    "\n"
   ]
  },
  {
   "cell_type": "markdown",
   "metadata": {
    "id": "96CJFXWs3Ie4"
   },
   "source": [
    "### View an Image Collection\n",
    "\n",
    "The Landsat program is a joint NASA/USGS program that has launched a sequence of Earth observation satellites, named Landsat 1, 2, etc. Landsats have been returning images since 1972, making that collection of images the longest continuous observation of the Earth's surface. We will now view images and basic information about one of the image collections that is still growing: collections of scenes taken by Landsat 8, launched in 2013."
   ]
  },
  {
   "cell_type": "code",
   "execution_count": null,
   "metadata": {
    "id": "T_smaiwH_a3J"
   },
   "outputs": [],
   "source": [
    "# load in the landsat collection\n",
    "landsat8 = ee.ImageCollection(\"LANDSAT/LC08/C01/T1\")"
   ]
  },
  {
   "cell_type": "code",
   "execution_count": null,
   "metadata": {
    "id": "5AMIIiob3QVI"
   },
   "outputs": [],
   "source": [
    "# print the number of images in a collection\n",
    "n_imgs = landsat8.size().getInfo()\n",
    "\n",
    "print(f\"The size of the Landsat 8 image collection is: {n_imgs}\");"
   ]
  },
  {
   "cell_type": "code",
   "execution_count": null,
   "metadata": {
    "id": "CYGg6H_s4Eay"
   },
   "outputs": [],
   "source": [
    "# Display result\n",
    "Map = geemap.Map(zoom=3)\n",
    "\n",
    "Map.addLayer(landsat8, {\"bands\": ['B4','B3','B2'], \"min\": 5000, \"max\": 15000}, 'Landsat 8 Image Collection');\n",
    "\n",
    "Map.addLayerControl()\n",
    "\n",
    "Map"
   ]
  },
  {
   "cell_type": "markdown",
   "metadata": {
    "id": "du8kY2tY4njg"
   },
   "source": [
    "Notice the high amount of cloud cover, and the “layered” look. This is because Earth Engine is drawing each of the images that make up the ImageCollection one on top of the other (i.e. mosaic operation). The striped look is the result of how the satellite collects imagery. The overlaps between images and the individual nature of the images mean that these are not quite ready for analysis.\n"
   ]
  },
  {
   "cell_type": "markdown",
   "metadata": {
    "id": "IXUarOAd5W2M"
   },
   "source": [
    "### Filtering Image Collections\n",
    "The ImageCollection data type in Earth Engine has multiple approaches to filtering which helps to pinpoint the exact images you want to view or analyze from the larger collection."
   ]
  },
  {
   "cell_type": "markdown",
   "metadata": {
    "id": "UDvB-zeR8eOE"
   },
   "source": [
    "#### Filter by time\n",
    "\n",
    "The first type of filtering is by time. We can define a date range for the whole collection."
   ]
  },
  {
   "cell_type": "code",
   "execution_count": null,
   "metadata": {
    "id": "LW4FJ7935hsf"
   },
   "outputs": [],
   "source": [
    "# specify the start and end dates of interest\n",
    "start_time = \"2021-01-01\"\n",
    "end_time = \"2022-01-01\" # end date is exclusive\n",
    "\n",
    "# apply date range filter\n",
    "landsat8_filtered = landsat8.filterDate(start_time,end_time)"
   ]
  },
  {
   "cell_type": "code",
   "execution_count": null,
   "metadata": {
    "id": "QG5T0uWQ7pTM"
   },
   "outputs": [],
   "source": [
    "# print the number of images in the filtered collection\n",
    "n_imgs_filtered = landsat8_filtered.size().getInfo()\n",
    "\n",
    "print(f\"The size of the Landsat 8 image collection is: {n_imgs_filtered}\")"
   ]
  },
  {
   "cell_type": "markdown",
   "metadata": {
    "id": "lDIvuuim8_cz"
   },
   "source": [
    "The number is significantly lower than the number of images in the entire collection. This is the result of filtering the dates to one year (2021).\n"
   ]
  },
  {
   "cell_type": "code",
   "execution_count": null,
   "metadata": {
    "id": "hfxJ1vJi8lQi"
   },
   "outputs": [],
   "source": [
    "# Display result\n",
    "Map = geemap.Map(zoom=3)\n",
    "\n",
    "Map.addLayer(landsat8_filtered, {\"bands\": ['B4','B3','B2'], \"min\": 5000, \"max\": 15000}, 'Landsat 8 Image Collection');\n",
    "\n",
    "Map.addLayerControl()\n",
    "\n",
    "Map"
   ]
  },
  {
   "cell_type": "markdown",
   "metadata": {
    "id": "Rd3ScgQRG60z"
   },
   "source": [
    "While this example shows a linear range to filter by time, a calendar range can also be used to filter data for multiple years to a specific season."
   ]
  },
  {
   "cell_type": "markdown",
   "metadata": {
    "id": "PrpBA2nM84zh"
   },
   "source": [
    "#### Filter by space\n",
    "\n",
    "The next filter we will examine is filtering the collection to a specific location by a geometry."
   ]
  },
  {
   "cell_type": "code",
   "execution_count": null,
   "metadata": {
    "id": "K_34yz0Ne4ef"
   },
   "outputs": [],
   "source": [
    "# define a point for Provo, UT\n",
    "provo = ee.Geometry.Point(-111.6585, 40.2338)"
   ]
  },
  {
   "cell_type": "code",
   "execution_count": null,
   "metadata": {
    "id": "ai2uKjhEvQ2G"
   },
   "outputs": [],
   "source": [
    "# filter the collection to the geometry\n",
    "landsat8_provo = landsat8_filtered.filterBounds(provo)"
   ]
  },
  {
   "cell_type": "code",
   "execution_count": null,
   "metadata": {
    "id": "uiq9D2p9ADQb"
   },
   "outputs": [],
   "source": [
    "# Display result\n",
    "Map = geemap.Map()\n",
    "\n",
    "Map.centerObject(provo, 10)\n",
    "\n",
    "Map.addLayer(landsat8_provo, {\"bands\": ['B4',\"B3\",\"B2\"], \"min\": 5000, \"max\": 15000}, 'Landsat 8 Image Collection');\n",
    "\n",
    "Map.addLayerControl()\n",
    "\n",
    "Map"
   ]
  },
  {
   "cell_type": "markdown",
   "metadata": {
    "id": "cs4dAOFlBHRO"
   },
   "source": [
    "#### Filter by property\n",
    "\n",
    "The methods `.filterDate()` and `.filterBounds()` we have used are special filters because they are used so often. Underneath, the filtering is applied using a filter object (i.e. `ee.Filter()`) on metadata properties. We we go through an example of how this works to filter imagery with lower cloud cover."
   ]
  },
  {
   "cell_type": "code",
   "execution_count": null,
   "metadata": {
    "id": "3rH08AEOaZ0_"
   },
   "outputs": [],
   "source": [
    "landsat8.limit(5).getInfo()"
   ]
  },
  {
   "cell_type": "code",
   "execution_count": null,
   "metadata": {
    "id": "Ny7o-Iajb_Sl"
   },
   "outputs": [],
   "source": [
    "landsat8.first().getInfo()"
   ]
  },
  {
   "cell_type": "code",
   "execution_count": null,
   "metadata": {
    "id": "APDm9Z53APzZ"
   },
   "outputs": [],
   "source": [
    "# define a filter object\n",
    "filter_op = ee.Filter.lt(\"CLOUD_COVER\",25)\n",
    "\n",
    "# apply the filter on a collection\n",
    "landsat8_noclouds = landsat8_provo.filter(filter_op)"
   ]
  },
  {
   "cell_type": "code",
   "execution_count": null,
   "metadata": {
    "id": "a2g1YeJhc5sj"
   },
   "outputs": [],
   "source": [
    "landsat8_noclouds.first().date().format(\"YYYY-MM-dd HH:mm:ss\").getInfo()"
   ]
  },
  {
   "cell_type": "code",
   "execution_count": null,
   "metadata": {
    "id": "usBC-zOcdR4y"
   },
   "outputs": [],
   "source": [
    "ee.Date(\"2015-01-01\")"
   ]
  },
  {
   "cell_type": "code",
   "execution_count": null,
   "metadata": {
    "id": "HGEcPMOoCQsT"
   },
   "outputs": [],
   "source": [
    "# Display result\n",
    "Map = geemap.Map()\n",
    "\n",
    "Map.centerObject(provo, 10)\n",
    "\n",
    "Map.addLayer(landsat8_noclouds.sort(\"system:time_start\"), {\"bands\": ['B4','B3','B2'], \"min\": 5000, \"max\": 15000}, 'Landsat 8 Image Collection');\n",
    "Map.addLayer(landsat8_noclouds.first(), {\"bands\": ['B4','B3','B2'], \"min\": 5000, \"max\": 15000}, 'Landsat 8 Image');\n",
    "\n",
    "Map.addLayerControl()\n",
    "\n",
    "Map"
   ]
  },
  {
   "cell_type": "markdown",
   "metadata": {
    "id": "MDgdFxdSCrP6"
   },
   "source": [
    "### Sorting\n",
    "\n",
    "After filtering we can apply additional operations to extract the imagery we would like (or manage data for processing). Here we will sort the imagery by date to extract the earliest image from the filtered collection. Sorting work on any numeric metadata property so it can be very useful to extract imagery or pre process things."
   ]
  },
  {
   "cell_type": "code",
   "execution_count": null,
   "metadata": {
    "id": "10i01AePDKU8"
   },
   "outputs": [],
   "source": [
    "# sort the collection by a numeric value, in this case time\n",
    "landsat8_sorted = landsat8_noclouds.sort(\"CLOUD_COVER\")\n",
    "\n",
    "# grab the first image in the sorted collection\n",
    "landsat8_img = landsat8_sorted.first()"
   ]
  },
  {
   "cell_type": "code",
   "execution_count": null,
   "metadata": {
    "id": "yo1kQB13PiiJ"
   },
   "outputs": [],
   "source": [
    "# check that the result is in fact an image not a collection\n",
    "assert type(landsat8_img) == ee.Image"
   ]
  },
  {
   "cell_type": "code",
   "execution_count": null,
   "metadata": {
    "id": "xKWATXp5elMP"
   },
   "outputs": [],
   "source": [
    "landsat8_img.date().format(\"YYYY-MM-dd\").getInfo()"
   ]
  },
  {
   "cell_type": "code",
   "execution_count": null,
   "metadata": {
    "id": "FEIqNyhWDSe7"
   },
   "outputs": [],
   "source": [
    "# Display map\n",
    "Map = geemap.Map()\n",
    "\n",
    "Map.centerObject(provo, 10)\n",
    "\n",
    "Map.addLayer(landsat8_img, {\"bands\": ['B7','B5','B3'], \"min\": 5000, \"max\": 15000}, 'Landsat 8 Image Collection');\n",
    "\n",
    "Map.addLayerControl()\n",
    "\n",
    "Map"
   ]
  },
  {
   "cell_type": "markdown",
   "metadata": {
    "id": "zbQK-2k5QtZ4"
   },
   "source": [
    "## Conclusion \n",
    "\n",
    "In this notebook we explored a couple fundamental concepts of using Earth Engine:\n",
    "1. Client vs Server side operations\n",
    "2. Loading data using Earth Engine and exploring the properties of data\n",
    "3. Visualizing data\n",
    "4. Loading image collections using Earth Engine\n",
    "5. Filtering image collections using space, time, and metadata information\n",
    "6. Combining filtering with sorting to gather imagery we are interested in\n",
    "\n",
    "These concepts are used often with Earth Engine and should be internalized. The next lab will focus on using the information to explore charateristics of different sensors/data in Earth Engine."
   ]
  }
 ],
 "metadata": {
  "colab": {
   "collapsed_sections": [],
   "name": "Copy of Lab 1 - Intro to Remote Sensing and EE.ipynb",
   "private_outputs": true,
   "provenance": []
  },
  "environment": {
   "kernel": "python3",
   "name": "common-cpu.m93",
   "type": "gcloud",
   "uri": "gcr.io/deeplearning-platform-release/base-cpu:m93"
  },
  "kernelspec": {
   "display_name": "Python 3",
   "language": "python",
   "name": "python3"
  },
  "language_info": {
   "codemirror_mode": {
    "name": "ipython",
    "version": 3
   },
   "file_extension": ".py",
   "mimetype": "text/x-python",
   "name": "python",
   "nbconvert_exporter": "python",
   "pygments_lexer": "ipython3",
   "version": "3.7.12"
  }
 },
 "nbformat": 4,
 "nbformat_minor": 4
}
