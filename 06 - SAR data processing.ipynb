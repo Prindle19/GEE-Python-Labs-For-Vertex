{
 "cells": [
  {
   "cell_type": "markdown",
   "metadata": {
    "id": "mcO4uu9thpt_"
   },
   "source": [
    "# Lab 6: SAR Data Processing\n",
    "\n",
    "**Purpose:** The purpose of this lab is to explore processing SAR data on Earth Engine and become familiar with SAR data properties. RTC and speckle filtering preprocessing will be explored and an example of change detection."
   ]
  },
  {
   "cell_type": "code",
   "execution_count": null,
   "metadata": {
    "id": "3ooesKuZiCSz"
   },
   "outputs": [],
   "source": [
    "# import ee api and geemap package\n",
    "import ee\n",
    "import math\n",
    "import geemap\n",
    "import pandas as pd\n",
    "from geemap import colormaps as cmaps"
   ]
  },
  {
   "cell_type": "code",
   "execution_count": null,
   "metadata": {
    "id": "yOGHGHpdiEm4"
   },
   "outputs": [],
   "source": [
    "# try to initalize an ee session\n",
    "# if not authenticated then run auth workflow and initialize\n",
    "try:\n",
    "    ee.Initialize()\n",
    "except:\n",
    "    ee.Authenticate()\n",
    "    ee.Initialize()"
   ]
  },
  {
   "cell_type": "markdown",
   "metadata": {
    "id": "j5updvkzoAuP"
   },
   "source": [
    "## Sentinel-1 Data\n",
    "\n",
    "[Sentinel-1](https://earth.esa.int/web/sentinel/missions/sentinel-1) is a space mission funded by the European Union and carried out by the European Space Agency (ESA) within the Copernicus Programme. Sentinel-1 collects C-band synthetic aperture radar (SAR) imagery at a variety of polarizations and resolutions. Since radar data requires several specialized algorithms to obtain calibrated, orthorectified imagery, there are some description document describes pre-processing of Sentinel-1 data in Earth Engine."
   ]
  },
  {
   "cell_type": "markdown",
   "metadata": {
    "id": "cDKrOG3yxuj9"
   },
   "source": [
    "## Earth Engine Preprocessing\n",
    "\n",
    "Imagery in the Earth Engine 'COPERNICUS/S1_GRD' Sentinel-1 ImageCollection is consists of Level-1 Ground Range Detected (GRD) scenes processed to backscatter coefficient (σ°) in decibels (dB). The backscatter coefficient represents target backscattering area (radar cross-section) per unit ground area. Because it can vary by several orders of magnitude, it is converted to dB as $10\\times log10\\sigma^°$. It measures whether the radiated terrain scatters the incident microwave radiation preferentially away from the SAR sensor dB < 0) or towards the SAR sensor dB > 0). This scattering behavior depends on the physical characteristics of the terrain, primarily the geometry of the terrain elements and their electromagnetic characteristics.\n",
    "\n",
    "Earth Engine uses the following preprocessing steps (as implemented by the Sentinel-1 Toolbox) to derive the backscatter coefficient in each pixel:\n",
    "\n",
    "1. Apply orbit file:\n",
    "Updates orbit metadata with a restituted orbit file (or a precise orbit file if the restituted one is not available).\n",
    "2. GRD border noise removal:\n",
    "Removes low intensity noise and invalid data on scene edges. (As of January 12, 2018)\n",
    "3. Thermal noise removal:\n",
    "Removes additive noise in sub-swaths to help reduce discontinuities between sub-swaths for scenes in multi-swath acquisition modes. (This operation cannot be applied to images produced before July 2015)\n",
    "4. Radiometric calibration:\n",
    "Computes backscatter intensity using sensor calibration parameters in the GRD metadata.\n",
    "5. Geometric terrain correction (orthorectification):\n",
    "Converts data from ground range geometry, which does not take terrain into account, to σ° using the SRTM 30 meter DEM or the ASTER DEM for high latitudes (greater than 60° or less than -60°)."
   ]
  },
  {
   "cell_type": "markdown",
   "metadata": {
    "id": "w8ghAU0LoPcn"
   },
   "source": [
    "## Metadata and Filtering\n",
    "\n",
    "Sentinel-1 data is collected with several different instrument configurations, resolutions, band combinations during both ascending and descending orbits. Because of this heterogeneity, it's usually necessary to filter the data to down to a homogeneous subset before starting processing. This process is outlined below in the Metadata and Filtering section.\n",
    "\n",
    "\n",
    "To create a homogeneous subset of Sentinel-1 data, it will usually be necessary to filter the collection using metadata properties. The common metadata fields used for filtering include these properties:\n",
    "\n",
    "1. `transmitterReceiverPolarisation`: ['VV'], ['HH'], ['VV', 'VH'], or ['HH', 'HV']\n",
    "2. `instrumentMode`: 'IW' (Interferometric Wide Swath), 'EW' (Extra Wide Swath) or 'SM' (Strip Map). See [this reference](https://sentinel.esa.int/web/sentinel/user-guides/sentinel-1-sar/acquisition-modes) for details.\n",
    "3. `orbitProperties_pass`: 'ASCENDING' or 'DESCENDING'\n",
    "4. `resolution_meters`: 10, 25 or 40\n",
    "5. `resolution`: 'M' (medium) or 'H' (high). See [this reference](https://sentinel.esa.int/web/sentinel/user-guides/sentinel-1-sar/resolutions/level-1-ground-range-detected) for details.\n",
    "\n",
    "\n",
    "The following code filters the Sentinel-1 collection by `transmitterReceiverPolarisation`, `instrumentMode`, and `orbitProperties_pass` properties, then calculates composites for several observation combinations that are displayed in the map to demonstrate how these characteristics affect the data.\n",
    "\n"
   ]
  },
  {
   "cell_type": "code",
   "execution_count": null,
   "metadata": {
    "id": "fRDwQCh8iHh-"
   },
   "outputs": [],
   "source": [
    "# Load the Sentinel-1 ImageCollection, filter to Jun-Sep 2020 observations.\n",
    "sentinel1 = (\n",
    "    ee.ImageCollection('COPERNICUS/S1_GRD')\n",
    "    .filterDate('2020-06-01', '2020-10-01')\n",
    ")"
   ]
  },
  {
   "cell_type": "code",
   "execution_count": null,
   "metadata": {
    "id": "pXL1uwjaprh3"
   },
   "outputs": [],
   "source": [
    "# Filter the Sentinel-1 collection by metadata properties.\n",
    "vv_vh_iw = (\n",
    "    sentinel1\n",
    "    # Filter to get images with VV and VH dual polarization.\n",
    "    .filter(ee.Filter.listContains('transmitterReceiverPolarisation', 'VV'))\n",
    "    .filter(ee.Filter.listContains('transmitterReceiverPolarisation', 'VH'))\n",
    "    # Filter to get images collected in interferometric wide swath mode.\n",
    "    .filter(ee.Filter.eq('instrumentMode', 'IW'))\n",
    ")\n"
   ]
  },
  {
   "cell_type": "code",
   "execution_count": null,
   "metadata": {
    "id": "SURD6MAlqK4B"
   },
   "outputs": [],
   "source": [
    "# Separate ascending and descending orbit images into distinct collections.\n",
    "vv_vh_iw_asc = vv_vh_iw.filter(ee.Filter.eq('orbitProperties_pass', 'ASCENDING'))\n",
    "vv_vh_iw_desc = vv_vh_iw.filter(ee.Filter.eq('orbitProperties_pass', 'DESCENDING'))"
   ]
  },
  {
   "cell_type": "markdown",
   "metadata": {
    "id": "BGGdRvogrM33"
   },
   "source": [
    "Calculate temporal means for various observations to use for visualization.\n"
   ]
  },
  {
   "cell_type": "code",
   "execution_count": null,
   "metadata": {
    "id": "jiQgU4U9qz1j"
   },
   "outputs": [],
   "source": [
    "# Mean VV ascending.\n",
    "vv_iw_asc_mean = vv_vh_iw_asc.select('VV').mean();\n",
    "# Mean VV descending.\n",
    "vv_iw_desc_mean = vv_vh_iw_desc.select('VV').mean();\n",
    "# Mean VV for combined ascending and descending image collections.\n",
    "vv_iw_asc_desc_mean = vv_vh_iw.select('VV').mean();\n"
   ]
  },
  {
   "cell_type": "code",
   "execution_count": null,
   "metadata": {
    "id": "FKVI-m9VqmQ-"
   },
   "outputs": [],
   "source": [
    "# Mean VH ascending.\n",
    "vh_iw_asc_mean = vv_vh_iw_asc.select('VH').mean();\n",
    "# Mean VH descending.\n",
    "vh_iw_desc_mean = vv_vh_iw_desc.select('VH').mean();\n",
    "# Mean VH for combined ascending and descending image collections.\n",
    "vh_iw_asc_desc_mean = vv_vh_iw.select('VH').mean();"
   ]
  },
  {
   "cell_type": "code",
   "execution_count": null,
   "metadata": {
    "id": "mszbI4F-rO3r"
   },
   "outputs": [],
   "source": [
    "# Visualize the results\n",
    "Map = geemap.Map()\n",
    "\n",
    "Map.setCenter(-73.8719, 4.512, 9);  # Bogota, Colombia\n",
    "\n",
    "# Display the temporal means for various observations, compare them.\n",
    "Map.addLayer(vv_iw_asc_mean, {\"min\": -25, \"max\": 0}, 'VV Asc Mean');\n",
    "Map.addLayer(vv_iw_desc_mean , {\"min\": -25, \"max\": 0}, 'VV Desc Mean');\n",
    "Map.addLayer(vv_iw_asc_desc_mean, {\"min\": -25, \"max\": 0}, 'VV Asc/Desc Mean');\n",
    "\n",
    "Map.addLayerControl()\n",
    "\n",
    "Map"
   ]
  },
  {
   "cell_type": "markdown",
   "metadata": {
    "id": "o0YvFx811EOi"
   },
   "source": [
    "## SAR Scale\n",
    "\n",
    "SAR backscatter are recorded in both return strength and phase. This data is converted to ground range dectected (GRD) imagery which is the imagery we just looked at. These intensity images represent the absolute backscatter of the surface imaged. GRD images can be stored using several different scales, including **power**, **amplitude**, and **dB**. As mentioned before the default scale of Sentinel-1 data is dB. However, in some cases, it may be desirable to convert the actual pixel values to a different scale.\n",
    "\n"
   ]
  },
  {
   "cell_type": "markdown",
   "metadata": {
    "id": "XTzv0M5i50qA"
   },
   "source": [
    "### Power Scale\n",
    "\n",
    "The values in this scale are generally very close to zero, so the dynamic range of the SAR image can be easily skewed by a few bright scatterers in the image. Power scale is the most appropriate for statistical analysis of the SAR dataset, but may not always be the best option for data visualization.\n",
    "\n",
    "Earth Engine stores Sentinel-1 data as power scale but it is not a searchable dataset: \"COPERNICUS/S1_GRD_FLOAT\"\n",
    "\n",
    "When viewing a SAR image in power scale, it may appear mostly or all black, and you may need to adjust the stretch to see features in the image. Often applying a stretch of 2 standard deviations, or setting the Min-Max stretch values to 0 and 0.3, will greatly improve the appearance of the image."
   ]
  },
  {
   "cell_type": "code",
   "execution_count": null,
   "metadata": {
    "id": "bMFRBEhRvyVd"
   },
   "outputs": [],
   "source": [
    "# read in the power scale imagecollection\n",
    "s1_power_asc = (\n",
    "    ee.ImageCollection(\"COPERNICUS/S1_GRD_FLOAT\")\n",
    "    .filterDate('2020-06-01', '2020-10-01')\n",
    "    # Filter to get images with VV and VH dual polarization.\n",
    "    .filter(ee.Filter.listContains('transmitterReceiverPolarisation', 'VV'))\n",
    "    .filter(ee.Filter.listContains('transmitterReceiverPolarisation', 'VH'))\n",
    "    # Filter to get images collected in interferometric wide swath mode.\n",
    "    .filter(ee.Filter.eq('instrumentMode', 'IW'))\n",
    "    # filter orbit pass\n",
    "    .filter(ee.Filter.eq('orbitProperties_pass', 'ASCENDING'))\n",
    ")"
   ]
  },
  {
   "cell_type": "code",
   "execution_count": null,
   "metadata": {
    "id": "Hv3cLwNZ8ifk"
   },
   "outputs": [],
   "source": [
    "# calculate power from the dB data\n",
    "def db_to_power(image):\n",
    "    return ee.Image.constant(10).pow(image.divide(10))\n"
   ]
  },
  {
   "cell_type": "code",
   "execution_count": null,
   "metadata": {
    "id": "pFPzDzBDYzpL"
   },
   "outputs": [],
   "source": [
    "# apply dB -> power scaling\n",
    "power_from_db = vv_vh_iw_asc.map(db_to_power)"
   ]
  },
  {
   "cell_type": "code",
   "execution_count": null,
   "metadata": {
    "id": "rEByUMh0Uge2"
   },
   "outputs": [],
   "source": [
    "# Visualize the results\n",
    "Map = geemap.Map()\n",
    "\n",
    "Map.setCenter(-73.8719, 4.512, 9);  # Bogota, Colombia\n",
    "\n",
    "Map.addLayer(s1_power_asc.mean(), {\"bands\":\"VV\", \"min\": 0, \"max\": 0.3}, 'Original power image');\n",
    "Map.addLayer(power_from_db.mean(), {\"bands\":\"VV\", \"min\": 0, \"max\": 0.3}, 'Power from dB image');\n",
    "\n",
    "Map.addLayerControl()\n",
    "\n",
    "Map"
   ]
  },
  {
   "cell_type": "markdown",
   "metadata": {
    "id": "UsNsN1Ok6Dul"
   },
   "source": [
    "### Amplitude Scale\n",
    "\n",
    "Amplitude scale is the square root of the power scale values. This brightens the darker pixels and darkens the brighter pixels, narrowing the dynamic range of the image. In many cases, amplitude scale presents a pleasing grayscale display of RTC images. Amplitude scale works well for calculating log difference ratios (see ASF Sentinel-1 RTC Product Guide)."
   ]
  },
  {
   "cell_type": "code",
   "execution_count": null,
   "metadata": {
    "id": "FKl3uazTTSkj"
   },
   "outputs": [],
   "source": [
    "# calculate amplitude from power\n",
    "def power_to_amplitude(image):\n",
    "    return image.sqrt()"
   ]
  },
  {
   "cell_type": "code",
   "execution_count": null,
   "metadata": {
    "id": "4Z42ORRLYyPV"
   },
   "outputs": [],
   "source": [
    "# apply power -> amplitude scaling\n",
    "s1_amplitude_asc = s1_power_asc.map(power_to_amplitude)"
   ]
  },
  {
   "cell_type": "code",
   "execution_count": null,
   "metadata": {
    "id": "r9D9VhITXdqT"
   },
   "outputs": [],
   "source": [
    "# Visualize the results\n",
    "Map = geemap.Map()\n",
    "\n",
    "Map.setCenter(-73.8719, 4.512, 9);  # Bogota, Colombia\n",
    "\n",
    "# Display the temporal means for various observations, compare them.\n",
    "Map.addLayer(s1_power_asc.mean(), {\"bands\":\"VV\", \"min\": 0, \"max\": 0.3}, 'Power image');\n",
    "Map.addLayer(s1_amplitude_asc.mean(), {\"bands\":\"VV\", \"min\": 0, \"max\": 0.75}, 'Amplitude image');\n",
    "\n",
    "Map.addLayerControl()\n",
    "\n",
    "Map"
   ]
  },
  {
   "cell_type": "markdown",
   "metadata": {
    "id": "UlQfdhgC616C"
   },
   "source": [
    "### dB Scale\n",
    "\n",
    "The dB scale is calculated by multiplying 10 times the Log10 of the power scale values. This scale brightens the pixels, allowing for better differentiation among very dark pixels. When identifying water on the landscape, this is often a good scale to use; the water pixels generally remain very dark, while the terrestrial pixels are even brighter. Because this is in a log scale, it is not appropriate for all types of statistical analyses."
   ]
  },
  {
   "cell_type": "code",
   "execution_count": null,
   "metadata": {
    "id": "tMFN85z-YLbl"
   },
   "outputs": [],
   "source": [
    "# function to convert power to dB units\n",
    "def power_to_db(image):\n",
    "    return ee.Image.constant(10).multiply(image.log10())"
   ]
  },
  {
   "cell_type": "code",
   "execution_count": null,
   "metadata": {
    "id": "uxa5e5xnYvYM"
   },
   "outputs": [],
   "source": [
    "# apply power -> db scaling\n",
    "s1_db_asc = s1_power_asc.map(power_to_db)"
   ]
  },
  {
   "cell_type": "code",
   "execution_count": null,
   "metadata": {
    "id": "nOJxVWvFaXXz"
   },
   "outputs": [],
   "source": [
    "# Visualize the results\n",
    "Map = geemap.Map()\n",
    "\n",
    "Map.setCenter(-73.8719, 4.512, 9);  # Bogota, Colombia\n",
    "\n",
    "Map.addLayer(s1_power_asc.mean(), {\"bands\":\"VV\", \"min\": 0, \"max\": 0.3}, 'Power image');\n",
    "Map.addLayer(s1_amplitude_asc.mean(), {\"bands\":\"VV\", \"min\": 0, \"max\": 0.75}, 'Amplitude image');\n",
    "Map.addLayer(s1_db_asc.mean(), {\"bands\":\"VV\", \"min\": -25, \"max\": 0}, 'dB image');\n",
    "\n",
    "\n",
    "Map.addLayerControl()\n",
    "\n",
    "Map"
   ]
  },
  {
   "cell_type": "markdown",
   "metadata": {
    "id": "uAK-m_CLakoa"
   },
   "source": [
    "## Radiometric Terrain Correction (RTC)\n",
    "\n",
    "The data stored on Earth Engine comes without terrain correction, however, this is an important step in processing SAR for a variety of applications. When RTC is performed, foreshortened areas are corrected based on the DEM. Areas impacted by layover or shadow, however, do not actually have data returns to correct.\n",
    "\n",
    "[Vollrath et al. (2020)](https://doi.org/10.3390/rs12111867) created a slope correction algorithm to be used with Earth Engine, here we will implement the methods and apply to SAR image for exploration."
   ]
  },
  {
   "cell_type": "code",
   "execution_count": null,
   "metadata": {
    "id": "snqImkR0aj0U"
   },
   "outputs": [],
   "source": [
    "def slope_correction(\n",
    "    image\n",
    "):\n",
    "    \"\"\"This function applies the slope correction on a Sentinel-1 image.\n",
    "    Function based on https:# doi.org/10.3390/rs12111867.\n",
    "    Adapted from https:# github.com/ESA-PhiLab/radiometric-slope-correction/blob/master/notebooks/1%20-%20Generate%20Data.ipynb\n",
    "\n",
    "    args:\n",
    "        image (ee.Image): Sentinel-1 to perform correction on\n",
    "        elevation (ee.Image): Input DEM to calculate slope corrections from\n",
    "        model (str, optional): physical reference model to be applied. Options are 'volume' or 'surface'.\n",
    "            default = volume\n",
    "        buffer (int, optional): buffer in meters for layover/shadow mask. If zero then no buffer will be applied. default = 0\n",
    "        scale (int, optional): reduction scale to process satellite heading compared to ground. Increasing will reduce\n",
    "            chance of OOM errors but reduce local scale correction accuracy. default = 1000\n",
    "\n",
    "    returns:\n",
    "        ee.Image: slope corrected SAR imagery with look and local incidence angle bands\n",
    "\n",
    "    raises:\n",
    "        NotImplementedError: when keyword model is not of 'volume' or 'surface'\n",
    "    \"\"\"\n",
    "\n",
    "    def _volumetric_model_SCF(theta_iRad, alpha_rRad):\n",
    "        \"\"\"Closure funnction for calculation of volumetric model SCF\n",
    "\n",
    "        args:\n",
    "            theta_iRad (ee.Image): incidence angle in radians\n",
    "            alpha_rRad (ee.Image): slope steepness in range\n",
    "\n",
    "        returns:\n",
    "            ee.Image\n",
    "        \"\"\"\n",
    "\n",
    "        # model\n",
    "        nominator = (ninetyRad.subtract(theta_iRad).add(alpha_rRad)).tan()\n",
    "        denominator = (ninetyRad.subtract(theta_iRad)).tan()\n",
    "        return nominator.divide(denominator)\n",
    "\n",
    "    def _surface_model_SCF(theta_iRad, alpha_rRad, alpha_azRad):\n",
    "        \"\"\"Closure funnction for calculation of direct model SCF\n",
    "\n",
    "        args:\n",
    "            theta_iRad (ee.Image): incidence angle in radians\n",
    "            alpha_rRad (ee.Image): slope steepness in range\n",
    "            alpha_azRad (ee.Image): slope steepness in azimuth\n",
    "\n",
    "        returns:\n",
    "            ee.Image\n",
    "        \"\"\"\n",
    "\n",
    "        # model\n",
    "        nominator = (ninetyRad.subtract(theta_iRad)).cos()\n",
    "        denominator = alpha_azRad.cos().multiply(\n",
    "            (ninetyRad.subtract(theta_iRad).add(alpha_rRad)).cos()\n",
    "        )\n",
    "\n",
    "        return nominator.divide(denominator)\n",
    "\n",
    "    def _erode(image, distance):\n",
    "        \"\"\"Closure function to buffer raster values\n",
    "\n",
    "        args:\n",
    "            image (ee.Image): image that should be buffered\n",
    "            distance (int): distance of buffer in meters\n",
    "\n",
    "        returns:\n",
    "            ee.Image\n",
    "        \"\"\"\n",
    "\n",
    "        d = (\n",
    "            image.Not()\n",
    "            .unmask(1)\n",
    "            .fastDistanceTransform(10)\n",
    "            .sqrt()\n",
    "            .multiply(ee.Image.pixelArea().sqrt())\n",
    "        )\n",
    "\n",
    "        return image.updateMask(d.gt(distance))\n",
    "\n",
    "    def _masking(alpha_rRad, theta_iRad, buffer):\n",
    "        \"\"\"Closure function for masking of layover and shadow\n",
    "\n",
    "        args:\n",
    "            alpha_rRad (ee.Image): slope steepness in range\n",
    "            theta_iRad (ee.Image): incidence angle in radians\n",
    "            buffer (int): buffer in meters\n",
    "\n",
    "        returns:\n",
    "            ee.Image\n",
    "        \"\"\"\n",
    "        # layover, where slope > radar viewing angle\n",
    "        layover = alpha_rRad.lt(theta_iRad).rename(\"layover\")\n",
    "\n",
    "        # shadow\n",
    "        shadow = alpha_rRad.gt(\n",
    "            ee.Image.constant(-1).multiply(ninetyRad.subtract(theta_iRad))\n",
    "        ).rename(\"shadow\")\n",
    "\n",
    "        # add buffer to layover and shadow\n",
    "        if buffer > 0:\n",
    "            layover = _erode(layover, buffer)\n",
    "            shadow = _erode(shadow, buffer)\n",
    "\n",
    "        # combine layover and shadow\n",
    "        no_data_mask = layover.And(shadow).rename(\"no_data_mask\")\n",
    "\n",
    "        return no_data_mask\n",
    "\n",
    "    # get the image geometry and projection\n",
    "    geom = image.geometry(scale)\n",
    "    proj = image.select(1).projection()\n",
    "    angle_band = image.select(\"angle\")\n",
    "\n",
    "    # image to convert angle to radians\n",
    "    to_radians = ee.Image.constant((math.pi / 180))\n",
    "    # create a 90 degree image in radians\n",
    "    ninetyRad = ee.Image.constant(90).multiply(to_radians)\n",
    "\n",
    "    # calculate the look direction\n",
    "    heading = (\n",
    "        ee.Terrain.aspect(image.select(\"angle\"))\n",
    "        .reduceRegion(ee.Reducer.mean(), geom, scale)\n",
    "        .get(\"aspect\")\n",
    "    )\n",
    "\n",
    "    # the numbering follows the article chapters\n",
    "    # 2.1.1 Radar geometry\n",
    "    theta_iRad = image.select(\"angle\").multiply(to_radians)\n",
    "    phi_iRad = ee.Image.constant(heading).multiply(to_radians)\n",
    "\n",
    "    # 2.1.2 Terrain geometry\n",
    "    alpha_sRad = (\n",
    "        ee.Terrain.slope(elevation)\n",
    "        .select(\"slope\")\n",
    "        .multiply(to_radians)\n",
    "        .setDefaultProjection(proj)\n",
    "    )\n",
    "\n",
    "    phi_sRad = (\n",
    "        ee.Terrain.aspect(elevation)\n",
    "        .select(\"aspect\")\n",
    "        .multiply(to_radians)\n",
    "        .setDefaultProjection(proj)\n",
    "    )\n",
    "\n",
    "    # 2.1.3 Model geometry\n",
    "    # reduce to 3 angle\n",
    "    phi_rRad = phi_iRad.subtract(phi_sRad)\n",
    "\n",
    "    # slope steepness in range (eq. 2)\n",
    "    alpha_rRad = (alpha_sRad.tan().multiply(phi_rRad.cos())).atan()\n",
    "\n",
    "    # slope steepness in azimuth (eq 3)\n",
    "    alpha_azRad = (alpha_sRad.tan().multiply(phi_rRad.sin())).atan()\n",
    "\n",
    "    # local incidence angle (eq. 4)\n",
    "    theta_liaRad = (\n",
    "        alpha_azRad.cos().multiply((theta_iRad.subtract(alpha_rRad)).cos())\n",
    "    ).acos()\n",
    "    theta_liaDeg = theta_liaRad.multiply(180 / math.pi)\n",
    "\n",
    "    # 2.2\n",
    "    # Gamma_nought\n",
    "    gamma0 = image.divide(theta_iRad.cos())\n",
    "\n",
    "    if model == \"volume\":\n",
    "        scf = _volumetric_model_SCF(theta_iRad, alpha_rRad)\n",
    "\n",
    "    elif model == \"surface\":\n",
    "        scf = _surface_model_SCF(theta_iRad, alpha_rRad, alpha_azRad)\n",
    "\n",
    "    else:\n",
    "        raise NotImplementedError(\n",
    "            f\"Defined model, {model}, has not been implemented. Options are 'volume' or 'surface'\"\n",
    "        )\n",
    "\n",
    "    # apply model for Gamm0_f\n",
    "    gamma0_flat = gamma0.divide(scf)\n",
    "\n",
    "    # calculate layover and shadow mask\n",
    "    masks = _masking(alpha_rRad, theta_iRad, buffer)\n",
    "\n",
    "    return (\n",
    "        gamma0_flat.updateMask(masks)\n",
    "        .addBands(angle_band)\n",
    "        .addBands(theta_liaDeg.rename(\"local_inc_angle\"))\n",
    "    )\n",
    "\n",
    "# define variables used within the slope_correction function\n",
    "elevation = ee.Image(\"NASA/NASADEM_HGT/001\").select(\"elevation\")\n",
    "model=\"volume\"\n",
    "buffer=100 # buffer areas of terrain shadow, in meters\n",
    "scale=1000 # processing scale for reductions"
   ]
  },
  {
   "cell_type": "code",
   "execution_count": null,
   "metadata": {
    "id": "dQPZVjcsgIVg"
   },
   "outputs": [],
   "source": [
    "# apply slope correction to power data\n",
    "power_rtc_asc = s1_power_asc.map(slope_correction)\n",
    "# convert data from power to dB\n",
    "db_rtc_asc = power_rtc_asc.map(power_to_db)"
   ]
  },
  {
   "cell_type": "code",
   "execution_count": null,
   "metadata": {
    "id": "EyRTj4JYgz6q"
   },
   "outputs": [],
   "source": [
    "# Visualize the results\n",
    "Map = geemap.Map()\n",
    "\n",
    "# Map.setCenter(-73.8719, 4.512, 9);  # Bogota, Colombia\n",
    "Map.centerObject(s1_db_asc.first(),10)\n",
    "\n",
    "Map.addLayer(s1_db_asc.mean(), {\"bands\":\"VV\", \"min\": -25, \"max\": 0}, 'dB image');\n",
    "Map.addLayer(db_rtc_asc.mean(), {\"bands\":\"VV\", \"min\": -25, \"max\": 0}, 'dB RTC image');\n",
    "\n",
    "Map.addLayerControl()\n",
    "\n",
    "Map"
   ]
  },
  {
   "cell_type": "markdown",
   "metadata": {
    "id": "ZJcl3WWmppJu"
   },
   "source": [
    "## Speckle Filtering\n",
    "\n",
    "Another important preprocessing step for SAR imagery is speckle filtering. In most cases, the patch of ground illuminated by the SAR transmitter will not be homogeneous. Instead it will be comprised of many different types of individual scatterers. The scatterers may interfere with each other either strengthening the return or weakening it. This creates a grainy (salt & pepper) appearance in SAR imagery. This a result of the nature of SAR and, thus, occurs in all SAR scenes. Speckle filtering attempts to mitigate the natural speckle in SAR imagery but there is a trade-off between reducing speckle and maintaining edges within the imagery. Because of this many different speckle filter algorithms have been developed. \n",
    "\n",
    "Here we will apply a compuationally efficient speckle filter algorithm, the Gamma Map algorithm  ([Lopes et al., 1990](https://doi.org/10.1109/36.62623))."
   ]
  },
  {
   "cell_type": "code",
   "execution_count": null,
   "metadata": {
    "id": "WHqWmxSRtl-v"
   },
   "outputs": [],
   "source": [
    "# define a function to apply the gamma map speckle filter algorithm\n",
    "def gamma_map(image):\n",
    "    \"\"\"Gamma Map speckle filtering algorithm.\n",
    "    Algorithm adapted from https://groups.google.com/g/google-earth-engine-developers/c/a9W0Nlrhoq0/m/tnGMC45jAgAJ.\n",
    "\n",
    "    args:\n",
    "        img (ee.Image): Earth engine image object. Expects that imagery is a SAR image in power scale\n",
    "\n",
    "    returns:\n",
    "        ee.Image: filtered SAR power image using the Gamma Map algorithm\n",
    "    \"\"\"\n",
    "\n",
    "    img_bands = image.bandNames()\n",
    "\n",
    "    # Square kernel, window should be odd (typically 3, 5 or 7)\n",
    "    weights = ee.List.repeat(ee.List.repeat(1, window), window)\n",
    "    midPt = (window // 2) + 1 if (window % 2) != 0 else window // 2\n",
    "\n",
    "    # ~~(window/2) does integer division in JavaScript\n",
    "    kernel = ee.Kernel.fixed(window, window, weights, midPt, midPt, False)\n",
    "\n",
    "    # Get mean and variance\n",
    "    mean = image.reduceNeighborhood(ee.Reducer.mean(), kernel)\n",
    "    variance = image.reduceNeighborhood(ee.Reducer.variance(), kernel)\n",
    "\n",
    "    # \"Pure speckle\" threshold\n",
    "    ci = variance.sqrt().divide(mean)  # square root of inverse of enl\n",
    "\n",
    "    # If ci <= cu, the kernel lies in a \"pure speckle\" area -> return simple mean\n",
    "    cu = 1.0 / math.sqrt(enl)\n",
    "\n",
    "    # If cu < ci < cmax the kernel lies in the low textured speckle area -> return the filtered value\n",
    "    cmax = math.sqrt(2.0) * cu\n",
    "\n",
    "    alpha = ee.Image(1.0 + cu * cu).divide(ci.multiply(ci).subtract(cu * cu))\n",
    "    b = alpha.subtract(enl + 1.0)\n",
    "    d = (\n",
    "        mean.multiply(mean)\n",
    "        .multiply(b)\n",
    "        .multiply(b)\n",
    "        .add(alpha.multiply(mean).multiply(image).multiply(4.0 * enl))\n",
    "    )\n",
    "    f = b.multiply(mean).add(d.sqrt()).divide(alpha.multiply(2.0))\n",
    "\n",
    "    caster = ee.Dictionary.fromLists(\n",
    "        img_bands, ee.List.repeat(\"float\", img_bands.length())\n",
    "    )\n",
    "    img1 = (\n",
    "        mean.updateMask(ci.lte(cu))\n",
    "        .rename(img_bands)\n",
    "        .cast(caster)\n",
    "    )\n",
    "    img2 = (\n",
    "        f.updateMask(ci.gt(cu)).updateMask(ci.lt(cmax))\n",
    "        .rename(img_bands)\n",
    "        .cast(caster)\n",
    "    )\n",
    "    img3 = image.updateMask(ci.gte(cmax)).rename(img_bands).cast(caster)\n",
    "\n",
    "    # If ci > cmax do not filter at all (i.e. we don't do anything, other then masking)\n",
    "    output = (\n",
    "        ee.ImageCollection([img1, img2, img3])\n",
    "        .reduce(ee.Reducer.firstNonNull())\n",
    "        .rename(img_bands)\n",
    "        .clip(image.geometry(1e3))\n",
    "    )\n",
    "\n",
    "    # Compose a 3 band image with the mean filtered \"pure speckle\", the \"low textured\" filtered and the unfiltered portions\n",
    "    return output\n",
    "    \n",
    "\n",
    "window=7 # filtering window size\n",
    "enl=4.9 # equivalent number of looks, for S1 enl ≈ 5"
   ]
  },
  {
   "cell_type": "code",
   "execution_count": null,
   "metadata": {
    "id": "RnfejNZZwoWP"
   },
   "outputs": [],
   "source": [
    "# apply speckle filter to RTC imagery\n",
    "power_filtered_asc = power_rtc_asc.map(gamma_map)\n",
    "# convert filtered data from power to dB\n",
    "db_filtered_asc = power_filtered_asc.map(power_to_db)"
   ]
  },
  {
   "cell_type": "code",
   "execution_count": null,
   "metadata": {
    "id": "4W239Cbd1r28"
   },
   "outputs": [],
   "source": [
    "# mosaic image and reproject for visualization\n",
    "proj = ee.Projection(\"EPSG:4326\").atScale(30)\n",
    "db_filtered_asc_mean = db_filtered_asc.mean().reproject(proj)\n"
   ]
  },
  {
   "cell_type": "code",
   "execution_count": null,
   "metadata": {
    "id": "nRrEi_v1xNVV"
   },
   "outputs": [],
   "source": [
    "# Visualize the results\n",
    "Map = geemap.Map()\n",
    "\n",
    "Map.setCenter(-73.8719, 4.512, 9);  # Bogota, Colombia\n",
    "\n",
    "Map.addLayer(s1_db_asc.mean(), {\"bands\":\"VV\", \"min\": -25, \"max\": 0}, 'dB image');\n",
    "Map.addLayer(db_rtc_asc.mean(), {\"bands\":\"VV\", \"min\": -25, \"max\": 0}, 'dB RTC image');\n",
    "Map.addLayer(db_filtered_asc_mean, {\"bands\":\"VV\", \"min\": -25, \"max\": 0}, 'dB RTC,filtered image');\n",
    "\n",
    "\n",
    "Map.addLayerControl()\n",
    "\n",
    "Map"
   ]
  },
  {
   "cell_type": "markdown",
   "metadata": {
    "id": "fhg9rmBhSmXL"
   },
   "source": [
    "Note: There are other speckle algorithms implemented in Earth Engine such as the [Lee Sigma](https://doi.org/10.1109/TGRS.2008.2002881) and [Refined Lee](https://doi.org/10.1109/36.789635) algorithms."
   ]
  },
  {
   "cell_type": "markdown",
   "metadata": {
    "id": "5w4E4AN68yTm"
   },
   "source": [
    "## Change detection\n",
    "\n",
    "A simple and informative approach to change detection is the calculation of the log difference between two RTC datasets from different dates:\n",
    "\n",
    "$ log10(\\frac{obs_{t}}{obs_{t-n}})$\n",
    "\n",
    "using this approach it is easy to identify areas where change occurred, as well as the direction of the change. Negative values indicate a decrease in radar backscatter over time, while positive values indicate an increase in backscatter.\n",
    "\n",
    "We will apply this approach to identify areas of deforestation:"
   ]
  },
  {
   "cell_type": "code",
   "execution_count": null,
   "metadata": {
    "id": "wScSsTS3jEl1"
   },
   "outputs": [],
   "source": [
    "# get an image collection of SAR power data for descending orbit\n",
    "s1_power = (\n",
    "    ee.ImageCollection(\"COPERNICUS/S1_GRD_FLOAT\")\n",
    "    # Filter to get images with VV and VH dual polarization.\n",
    "    .filter(ee.Filter.listContains('transmitterReceiverPolarisation', 'VV'))\n",
    "    .filter(ee.Filter.listContains('transmitterReceiverPolarisation', 'VH'))\n",
    "    # Filter to get images collected in interferometric wide swath mode.\n",
    "    .filter(ee.Filter.eq('instrumentMode', 'IW'))\n",
    "    # filter orbit pass\n",
    "    .filter(ee.Filter.eq('orbitProperties_pass', 'DESCENDING'))\n",
    ")"
   ]
  },
  {
   "cell_type": "code",
   "execution_count": null,
   "metadata": {
    "id": "GzDzckQ_huFR"
   },
   "outputs": [],
   "source": [
    "# filter for June 2019\n",
    "# apply slope correction and speckle filter\n",
    "before = s1_power.filterDate('2019-06-01', '2019-07-01').map(slope_correction).map(gamma_map)\n",
    "# convert to amplitude scale for change detection\n",
    "before_amp = before.map(power_to_amplitude).mean()"
   ]
  },
  {
   "cell_type": "code",
   "execution_count": null,
   "metadata": {
    "id": "Sy00ASrzi50g"
   },
   "outputs": [],
   "source": [
    "# filter for June 2020\n",
    "# apply slope correction and speckle filter\n",
    "after = s1_power.filterDate('2020-06-01', '2020-07-01').map(slope_correction).map(gamma_map)\n",
    "# convert to amplitude scale for change detection\n",
    "after_amp = after.map(power_to_amplitude).mean()"
   ]
  },
  {
   "cell_type": "code",
   "execution_count": null,
   "metadata": {
    "id": "tMBAiwHCi6sg"
   },
   "outputs": [],
   "source": [
    "# apply log ratio change detection\n",
    "change = after_amp.divide(before_amp).log10()"
   ]
  },
  {
   "cell_type": "code",
   "execution_count": null,
   "metadata": {
    "id": "qNT1zzcbmGzM"
   },
   "outputs": [],
   "source": [
    "# Visualize the results\n",
    "Map = geemap.Map()\n",
    "\n",
    "Map.setCenter(-57.70219, -13.266281, 9);  # Amazon Forest\n",
    "\n",
    "Map.addLayer(before_amp.reproject(proj), {\"bands\":\"VH\", \"min\": 0, \"max\": 0.75}, 'before image');\n",
    "Map.addLayer(after_amp.reproject(proj), {\"bands\":\"VH\", \"min\": 0, \"max\": 0.75}, 'after image');\n",
    "Map.addLayer(change.reproject(proj), {\"bands\":\"VH\", \"min\": -0.5, \"max\": 0.5, \"palette\":cmaps.get_palette(\"PiYG\")}, 'change image');\n",
    "\n",
    "\n",
    "Map.addLayerControl()\n",
    "\n",
    "Map"
   ]
  },
  {
   "cell_type": "code",
   "execution_count": null,
   "metadata": {
    "id": "Hdp1LMMImYX8"
   },
   "outputs": [],
   "source": [
    "# create a map of deforestation based on change magnitude from threshold \n",
    "deforested = change.lt(-0.2)"
   ]
  },
  {
   "cell_type": "code",
   "execution_count": null,
   "metadata": {
    "id": "Uk6fjCCU4Sej"
   },
   "outputs": [],
   "source": [
    "# Visualize the results\n",
    "Map = geemap.Map()\n",
    "\n",
    "Map.setCenter(-57.70219, -13.266281, 9);  # Amazon Forest\n",
    "\n",
    "Map.addLayer(after_amp.reproject(proj), {\"bands\":\"VH\", \"min\": 0, \"max\": 0.75}, 'after image');\n",
    "Map.addLayer(deforested.selfMask().reproject(proj), {\"bands\":\"VH\", \"min\": 0, \"max\": 1, \"palette\":\"red\"}, 'Deforestation');\n",
    "\n",
    "\n",
    "Map.addLayerControl()\n",
    "\n",
    "Map"
   ]
  }
 ],
 "metadata": {
  "colab": {
   "authorship_tag": "ABX9TyMTWS3ei/TeQbTNNp7QYiPk",
   "collapsed_sections": [],
   "name": "Lab 6 - SAR data processing.ipynb",
   "private_outputs": true,
   "provenance": []
  },
  "environment": {
   "kernel": "python3",
   "name": "common-cpu.m93",
   "type": "gcloud",
   "uri": "gcr.io/deeplearning-platform-release/base-cpu:m93"
  },
  "kernelspec": {
   "display_name": "Python 3",
   "language": "python",
   "name": "python3"
  },
  "language_info": {
   "codemirror_mode": {
    "name": "ipython",
    "version": 3
   },
   "file_extension": ".py",
   "mimetype": "text/x-python",
   "name": "python",
   "nbconvert_exporter": "python",
   "pygments_lexer": "ipython3",
   "version": "3.7.12"
  }
 },
 "nbformat": 4,
 "nbformat_minor": 4
}
